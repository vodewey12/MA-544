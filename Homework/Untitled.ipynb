{
 "cells": [
  {
   "cell_type": "code",
   "execution_count": 3,
   "id": "a3ece150-f96d-421f-89f7-f36babdedc60",
   "metadata": {},
   "outputs": [],
   "source": [
    "import numpy as np"
   ]
  },
  {
   "cell_type": "code",
   "execution_count": 4,
   "id": "59bb51cc-6314-4786-8ce7-2b0b2a236936",
   "metadata": {},
   "outputs": [
    {
     "name": "stdout",
     "output_type": "stream",
     "text": [
      "[[-3.16666667  1.83333333 -1.16666667  1.83333333 -0.16666667  0.83333333]\n",
      " [ 0.5         1.5        -4.5         2.5        -0.5         0.5       ]]\n"
     ]
    }
   ],
   "source": [
    "Xt = np.array([[-2,3,0,3,1,2],[3,4,-2,5,2,3]])\n",
    "\n",
    "\n",
    "\n",
    "Xt_centered = Xt - np.mean(Xt, axis=1, keepdims=True)\n",
    "print(Xt_centered)"
   ]
  },
  {
   "cell_type": "code",
   "execution_count": 5,
   "id": "0a3fa225-c475-4d11-9bc8-c0a397c575bd",
   "metadata": {},
   "outputs": [
    {
     "name": "stdout",
     "output_type": "stream",
     "text": [
      "[[3.76666667 2.3       ]\n",
      " [2.3        5.9       ]]\n"
     ]
    }
   ],
   "source": [
    "print (np.cov(Xt_centered))"
   ]
  },
  {
   "cell_type": "code",
   "execution_count": 8,
   "id": "6cee1435-b57b-4827-85ad-a191763ad246",
   "metadata": {},
   "outputs": [
    {
     "name": "stdout",
     "output_type": "stream",
     "text": [
      "Eigenvalues:  [1.88229191 6.41770809]  Eigenvectors:  [[-0.78820544 -0.61541221]\n",
      " [ 0.61541221 -0.78820544]]\n",
      "[-0.61541221 -0.78820544]\n"
     ]
    }
   ],
   "source": [
    "S = np.array([[3.6, 2.2], [2.2, 4.7]])\n",
    "\n",
    "eigenvalues, eigenvectors = np.linalg.eig(S)\n",
    "print(\"Eigenvalues: \", eigenvalues, \" Eigenvectors: \", eigenvectors)\n",
    "# Sort eigenvectors and eigenvalues in decreasing order of eigenvalues\n",
    "idx = eigenvalues.argsort()[::-1]\n",
    "eigenvalues = eigenvalues[idx]\n",
    "eigenvectors = eigenvectors[:,idx]\n",
    "\n",
    "# First principal component direction\n",
    "a = eigenvectors[:,0]\n",
    "\n",
    "print(a)"
   ]
  },
  {
   "cell_type": "code",
   "execution_count": 11,
   "id": "4e9d4c85-e5cd-4993-9f18-0d68c8e66e4a",
   "metadata": {},
   "outputs": [
    {
     "ename": "ValueError",
     "evalue": "shapes (2,6) and (2,) not aligned: 6 (dim 1) != 2 (dim 0)",
     "output_type": "error",
     "traceback": [
      "\u001b[0;31m---------------------------------------------------------------------------\u001b[0m",
      "\u001b[0;31mValueError\u001b[0m                                Traceback (most recent call last)",
      "Cell \u001b[0;32mIn[11], line 2\u001b[0m\n\u001b[1;32m      1\u001b[0m Xt_centered \u001b[38;5;241m=\u001b[39m Xt \u001b[38;5;241m-\u001b[39m np\u001b[38;5;241m.\u001b[39mmean(Xt, axis\u001b[38;5;241m=\u001b[39m\u001b[38;5;241m1\u001b[39m, keepdims\u001b[38;5;241m=\u001b[39m\u001b[38;5;28;01mTrue\u001b[39;00m)\n\u001b[0;32m----> 2\u001b[0m PC_1 \u001b[38;5;241m=\u001b[39m \u001b[43mnp\u001b[49m\u001b[38;5;241;43m.\u001b[39;49m\u001b[43mdot\u001b[49m\u001b[43m(\u001b[49m\u001b[43mXt_centered\u001b[49m\u001b[43m,\u001b[49m\u001b[43m \u001b[49m\u001b[43ma\u001b[49m\u001b[43m)\u001b[49m\n",
      "File \u001b[0;32m<__array_function__ internals>:200\u001b[0m, in \u001b[0;36mdot\u001b[0;34m(*args, **kwargs)\u001b[0m\n",
      "\u001b[0;31mValueError\u001b[0m: shapes (2,6) and (2,) not aligned: 6 (dim 1) != 2 (dim 0)"
     ]
    }
   ],
   "source": [
    "Xt_centered = Xt - np.mean(Xt, axis=1, keepdims=True)\n",
    "PC_1 = np.dot(Xt_centered, a)"
   ]
  },
  {
   "cell_type": "code",
   "execution_count": null,
   "id": "aa4c5d84-6265-4850-83ed-3adc22404817",
   "metadata": {},
   "outputs": [],
   "source": []
  }
 ],
 "metadata": {
  "kernelspec": {
   "display_name": "Python 3 (ipykernel)",
   "language": "python",
   "name": "python3"
  },
  "language_info": {
   "codemirror_mode": {
    "name": "ipython",
    "version": 3
   },
   "file_extension": ".py",
   "mimetype": "text/x-python",
   "name": "python",
   "nbconvert_exporter": "python",
   "pygments_lexer": "ipython3",
   "version": "3.11.1"
  }
 },
 "nbformat": 4,
 "nbformat_minor": 5
}
