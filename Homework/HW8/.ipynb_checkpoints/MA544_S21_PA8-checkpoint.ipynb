{
 "cells": [
  {
   "cell_type": "markdown",
   "metadata": {},
   "source": [
    "# Programming Assignment - 8\n",
    "---\n",
    "## Name: Aaron Vo\n",
    "---"
   ]
  },
  {
   "cell_type": "code",
   "execution_count": 11,
   "metadata": {},
   "outputs": [],
   "source": [
    "import numpy as np\n",
    "import matplotlib.pyplot as plt\n",
    "from sklearn.decomposition import NMF\n",
    "from skimage import io, transform\n",
    "\n",
    "import os"
   ]
  },
  {
   "cell_type": "markdown",
   "metadata": {},
   "source": [
    "## Question 1\n",
    "---\n",
    "Implement the multiplicative NMF algorithm discussed in class. Write a function lee_seung(V, k, maxiteration) that takes a nonnegative matrix V and returns W and H.  For test, create a random nonnegative matrix of dimension 200x500 where the elements are uniformly distributed in [0,1]. Print the value $ \\|V-WH\\|_F /\\|V\\|_F$."
   ]
  },
  {
   "cell_type": "code",
   "execution_count": 12,
   "metadata": {},
   "outputs": [
    {
     "name": "stdout",
     "output_type": "stream",
     "text": [
      "Approximation error: 0.4480264593520812\n"
     ]
    }
   ],
   "source": [
    "def lee_seung(V, k, maxIter):\n",
    "    m,n = V.shape\n",
    "    W = np.random.rand(V.shape[0], k)\n",
    "    H = np.random.rand(k, V.shape[1])\n",
    "    for iter in range(maxIter):\n",
    "        # Update H\n",
    "        H = H * (W.T @ V) / (W.T @ W @ H + 1e-9)\n",
    "        \n",
    "        # Update W\n",
    "        W = W * (V @ H.T) / (W @ H @ H.T + 1e-9)\n",
    "    \n",
    "    return W, H\n",
    "\n",
    "# test your code\n",
    "V = np.random.rand(200, 500)\n",
    "\n",
    "# Compute NMF with k=20 and maxiteration=1000\n",
    "W, H = lee_seung(V, k=20, maxIter=1000)\n",
    "\n",
    "# Compute approximation error\n",
    "error = np.linalg.norm(V - W @ H) / np.linalg.norm(V)\n",
    "\n",
    "print(\"Approximation error:\", error)"
   ]
  },
  {
   "cell_type": "markdown",
   "metadata": {},
   "source": [
    "## Question 2\n",
    "---\n",
    "Find the nonnegative basis representation of images from one of the following databases. Show a comparison of some sample images with their reconstruction from the basis.\n",
    "\n",
    ">- The ORL database of faces at [ORL link](http://cam-orl.co.uk/facedatabase.html/#:~:text=Our%20Database%20of%20Faces%2C%20%28formerly%20%27The%20ORL%20Database,Robotics%20Group%20of%20the%20Cambridge%20University%20Engineering%20Department.).\n",
    "\n",
    ">- The CBCL database of faces at [MIT link](http://cbcl.mit.edu/software-datasets/heisele/facerecognition-database.html).\n",
    "\n",
    ">- Yale faces B facial images at [UCSD](http://vision.ucsd.edu/~leekc/ExtYaleDatabase/ExtYaleB.html)."
   ]
  },
  {
   "cell_type": "code",
   "execution_count": null,
   "metadata": {},
   "outputs": [],
   "source": [
    "image = plt.imread('testing.jpg')\n",
    "image = image.mean(axis=2)\n",
    "\n",
    "# Convert the pixel values to a 2D array of shape (length*width, 3)\n",
    "vmax = max(image.max(), -image.min())\n",
    "\n",
    "fig, (ax, ax2)  =plt.subplots(ncols=2)    \n",
    "ax.imshow(image, cmap=plt.cm.gray, interpolation = 'nearest',vmin=-vmax,vmax=vmax)\n",
    "\n",
    "\n",
    "model = NMF(n_components=50, init='random', tol=5e-3)\n",
    "W = model.fit_transform(X)\n",
    "H = model.components_\n",
    "\n",
    "new_img = np.dot(W,H)\n",
    "ax2.imshow(new_img, cmap=plt.cm.gray,\n",
    "                   interpolation='nearest',\n",
    "                   vmin=-vmax, vmax=vmax)\n"
   ]
  },
  {
   "cell_type": "code",
   "execution_count": null,
   "metadata": {},
   "outputs": [],
   "source": []
  }
 ],
 "metadata": {
  "kernelspec": {
   "display_name": "Python 3 (ipykernel)",
   "language": "python",
   "name": "python3"
  },
  "language_info": {
   "codemirror_mode": {
    "name": "ipython",
    "version": 3
   },
   "file_extension": ".py",
   "mimetype": "text/x-python",
   "name": "python",
   "nbconvert_exporter": "python",
   "pygments_lexer": "ipython3",
   "version": "3.11.1"
  }
 },
 "nbformat": 4,
 "nbformat_minor": 4
}
