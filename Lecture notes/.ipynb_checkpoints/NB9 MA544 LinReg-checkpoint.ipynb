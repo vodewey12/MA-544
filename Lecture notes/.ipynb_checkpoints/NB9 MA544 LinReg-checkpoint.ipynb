{
 "cells": [
  {
   "cell_type": "markdown",
   "metadata": {},
   "source": [
    "### Basic Supervised Learning Algorithms: Linear Regression\n",
    "---\n",
    "\n",
    "<img src=\"./images/Supervised.png\" width='70%'/>"
   ]
  },
  {
   "cell_type": "code",
   "execution_count": 7,
   "metadata": {},
   "outputs": [],
   "source": [
    "#!jt -t solarizedl\n",
    "!jt -t grade3"
   ]
  },
  {
   "cell_type": "code",
   "execution_count": 1,
   "metadata": {},
   "outputs": [],
   "source": [
    "## Import relevant libraries\n",
    "\n",
    "import numpy as np\n",
    "import pandas as pd\n",
    "import matplotlib.pyplot as plt\n",
    "\n",
    "# Scikit-learn\n",
    "from sklearn.linear_model import LinearRegression\n",
    "from sklearn.model_selection import train_test_split\n",
    "from sklearn.preprocessing import MinMaxScaler, StandardScaler\n",
    "\n",
    "\n",
    "%matplotlib inline\n",
    "\n",
    "np.random.seed(100)"
   ]
  },
  {
   "cell_type": "code",
   "execution_count": 2,
   "metadata": {},
   "outputs": [],
   "source": [
    "# Housing Price Examples from last class\n",
    "carpet_area = np.array([850, 1200, 1500,1475, 900, 2100,2700, 800, 1100,1650, 2600, 1800, 1000, 1300])\n",
    "house_price = np.array([190, 250, 300,310, 200, 350, 410, 170, 210, 329, 400, 360, 230, 260])\n",
    "\n",
    "# A dictionary of carpet area and house_price\n",
    "data={\"carpet_area\": carpet_area, \"house_price\":house_price}\n",
    "\n",
    "#A Dataframe having house price vs the carpet area\n",
    "house_price_df = pd.DataFrame(data)"
   ]
  },
  {
   "cell_type": "code",
   "execution_count": 3,
   "metadata": {},
   "outputs": [],
   "source": [
    "# One more feature to the housing price data\n",
    "house_type = pd.Series([\"condo\",\"house\",\"house\",\"condo\",\"house\", \"condo\",\"condo\",\"house\",\"house\",\"condo\",\"house\"])\n",
    "house_price_df['house_type'] = house_type"
   ]
  },
  {
   "cell_type": "code",
   "execution_count": 4,
   "metadata": {},
   "outputs": [
    {
     "data": {
      "text/html": [
       "<div>\n",
       "<style scoped>\n",
       "    .dataframe tbody tr th:only-of-type {\n",
       "        vertical-align: middle;\n",
       "    }\n",
       "\n",
       "    .dataframe tbody tr th {\n",
       "        vertical-align: top;\n",
       "    }\n",
       "\n",
       "    .dataframe thead th {\n",
       "        text-align: right;\n",
       "    }\n",
       "</style>\n",
       "<table border=\"1\" class=\"dataframe\">\n",
       "  <thead>\n",
       "    <tr style=\"text-align: right;\">\n",
       "      <th></th>\n",
       "      <th>carpet_area</th>\n",
       "      <th>house_price</th>\n",
       "      <th>house_type</th>\n",
       "    </tr>\n",
       "  </thead>\n",
       "  <tbody>\n",
       "    <tr>\n",
       "      <th>0</th>\n",
       "      <td>850</td>\n",
       "      <td>190</td>\n",
       "      <td>condo</td>\n",
       "    </tr>\n",
       "    <tr>\n",
       "      <th>1</th>\n",
       "      <td>1200</td>\n",
       "      <td>250</td>\n",
       "      <td>house</td>\n",
       "    </tr>\n",
       "    <tr>\n",
       "      <th>2</th>\n",
       "      <td>1500</td>\n",
       "      <td>300</td>\n",
       "      <td>house</td>\n",
       "    </tr>\n",
       "    <tr>\n",
       "      <th>3</th>\n",
       "      <td>1475</td>\n",
       "      <td>310</td>\n",
       "      <td>condo</td>\n",
       "    </tr>\n",
       "    <tr>\n",
       "      <th>4</th>\n",
       "      <td>900</td>\n",
       "      <td>200</td>\n",
       "      <td>house</td>\n",
       "    </tr>\n",
       "  </tbody>\n",
       "</table>\n",
       "</div>"
      ],
      "text/plain": [
       "   carpet_area  house_price house_type\n",
       "0          850          190      condo\n",
       "1         1200          250      house\n",
       "2         1500          300      house\n",
       "3         1475          310      condo\n",
       "4          900          200      house"
      ]
     },
     "execution_count": 4,
     "metadata": {},
     "output_type": "execute_result"
    }
   ],
   "source": [
    "house_price_df.head()"
   ]
  },
  {
   "cell_type": "code",
   "execution_count": 5,
   "metadata": {},
   "outputs": [
    {
     "data": {
      "image/png": "[encoded data removed]",
      "text/plain": [
       "<Figure size 576x432 with 1 Axes>"
      ]
     },
     "metadata": {
      "needs_background": "light"
     },
     "output_type": "display_data"
    }
   ],
   "source": [
    "# Plot of the points: Scatter-plot\n",
    "plt.figure(figsize=(8,6))\n",
    "plt.plot(carpet_area, house_price, 'ro')# 'ro' red circle\n",
    "plt.axis([500, 2500, 100, 450]) # x-range and y-range\n",
    "plt.xlabel(\"Carpet Area\")\n",
    "plt.ylabel(\"House Price\")\n",
    "plt.show()"
   ]
  },
  {
   "cell_type": "markdown",
   "metadata": {},
   "source": [
    "### Observation\n",
    "<li>Above plot suggests a linear relation between house price and carpet area.</li>\n",
    "<li>How can we find a linear function that predicts the house price given the carpet area.</li>\n",
    "<li>REGRESSION ANALYSIS Provides the answer.</li>\n",
    "<li>If $x$ denotes the carpet area and $y$ denotes the price of the house. We aim to find a linear function: </li>\n",
    "$$ y = h_{\\theta} (x)  = \\theta_0 + \\theta_1 x $$\n"
   ]
  },
  {
   "cell_type": "markdown",
   "metadata": {},
   "source": [
    "### Linear Regression\n",
    "<li>Hypothesis: </li>\n",
    "$$ y = h_{\\theta} (x)  = \\theta_0 + \\theta_1 x $$\n",
    "<li>Objective: To estimate the values of the parameters $\\theta = (\\theta_0, \\theta_1)$.</li>\n",
    "<li>Minimize the cost function (mean squared error(/2)):</li>\n",
    "$$ J(\\theta) = \\frac{1}{2 m} \\sum_{i=1}^{m} (\\theta_0 + \\theta_1 x^{(i)} - y^{(i)})^2$$\n",
    "<li>How: Gradient Descent:</li>\n",
    "<li>Start with random $\\theta_0$ and $\\theta_1$, and repeat until convergence:</li>\n",
    "<div class='eqnbox2'>\n",
    "$$ \\large\n",
    "\\theta_0 = \\theta_0 - \\alpha \\frac{\\partial J}{\\partial \\theta_0}, \\qquad\n",
    " \\theta_1 = \\theta_1 - \\alpha \\frac{\\partial J}{\\partial \\theta_1}  \n",
    " $$\n",
    "</div>\n",
    "\n",
    "where $\\alpha$ is called the 'learning rate' and \n",
    "\n",
    "\\begin{align}\n",
    "  \\frac{\\partial J}{\\partial \\theta_0} &=  \\frac{1}{m} \\sum_{i=1}^{m} (\\theta_0 + \\theta_1 x^{(i)} - y^{(i)}),\\\\\n",
    " \\frac{\\partial J}{\\partial \\theta_1}  &=  \\frac{1}{m} \\sum_{i=1}^{m} (\\theta_0 + \\theta_1 x^{(i)} - y^{(i)})x^{(i)}.\n",
    "\\end{align}\n",
    "\n",
    "**QUESTION**: How should we choose an appropriate learning rate and why?"
   ]
  },
  {
   "cell_type": "code",
   "execution_count": 7,
   "metadata": {},
   "outputs": [],
   "source": [
    "class LinRegModel_v1:    \n",
    "    def __init__(self, theta0=0.0, theta1=0.0):\n",
    "        self.theta0 = theta0\n",
    "        self.theta1 = theta1\n",
    "        self.mse=[]\n",
    "        print (\"Linear Regression Object Created.\")\n",
    "        print (\"theta0=%.2f and theta1 = %.2f\"%(self.theta0, self.theta1))\n",
    "        \n",
    "    def train(self, X, y, learning_rate = 0.001, n_iter=1000, verbose=False):\n",
    "        '''\n",
    "        Trains a univariate linear regression model to estimate parameters.\n",
    "        ---------------------\n",
    "        Pramaters:\n",
    "        X is the feature vector\n",
    "        y is the response vaector\n",
    "        ---------------------\n",
    "        Returns: None\n",
    "        '''\n",
    "        m = len(y)\n",
    "        # print m\n",
    "        t0 = self.theta0\n",
    "        t1 = self.theta1\n",
    "        ## Gradient Descent\n",
    "        for k in range(n_iter):\n",
    "            dt0 = np.sum(t0 + t1 * X - y) / m\n",
    "            dt1 = np.sum((t0 + t1 * X - y) * X) / m\n",
    "            \n",
    "            ## Gradient Descent\n",
    "            t0 = t0 - learning_rate * dt0\n",
    "            t1 = t1 - learning_rate * dt1\n",
    "            \n",
    "            if k % 100 == 0:\n",
    "                err = (np.linalg.norm(t0 + t1 * X - y))**2 / m\n",
    "                self.mse.append(err)\n",
    "                if verbose:\n",
    "                    print( \"\\n Iteration %d: MSE = %.5f\"%(k, err))\n",
    "                \n",
    "        self.intercept_ = t0\n",
    "        self.coef_ = t1\n",
    "        print (\" The  model is done training. Ready with prediction power.\")\n",
    "        \n",
    "        \n",
    "    \n",
    "    def predict(self, x):\n",
    "        return self.intercept_ + self.coef_ * x\n",
    "        "
   ]
  },
  {
   "cell_type": "code",
   "execution_count": 8,
   "metadata": {},
   "outputs": [
    {
     "name": "stdout",
     "output_type": "stream",
     "text": [
      "Linear Regression Object Created.\n",
      "theta0=0.25 and theta1 = 0.40\n"
     ]
    }
   ],
   "source": [
    "# Create an object of the Linear Regression class\n",
    "myo1 = LinRegModel_v1(theta0=0.25, theta1=0.4)"
   ]
  },
  {
   "cell_type": "code",
   "execution_count": 9,
   "metadata": {},
   "outputs": [
    {
     "name": "stdout",
     "output_type": "stream",
     "text": [
      "\n",
      " Iteration 0: MSE = 5.46359\n",
      "\n",
      " Iteration 100: MSE = 0.07891\n",
      "\n",
      " Iteration 200: MSE = 0.06039\n",
      "\n",
      " Iteration 300: MSE = 0.04719\n",
      "\n",
      " Iteration 400: MSE = 0.03777\n",
      "\n",
      " Iteration 500: MSE = 0.03106\n",
      "\n",
      " Iteration 600: MSE = 0.02628\n",
      "\n",
      " Iteration 700: MSE = 0.02287\n",
      "\n",
      " Iteration 800: MSE = 0.02044\n",
      "\n",
      " Iteration 900: MSE = 0.01870\n",
      "\n",
      " Iteration 1000: MSE = 0.01747\n",
      "\n",
      " Iteration 1100: MSE = 0.01659\n",
      "\n",
      " Iteration 1200: MSE = 0.01596\n",
      "\n",
      " Iteration 1300: MSE = 0.01551\n",
      "\n",
      " Iteration 1400: MSE = 0.01519\n",
      "\n",
      " Iteration 1500: MSE = 0.01497\n",
      "\n",
      " Iteration 1600: MSE = 0.01480\n",
      "\n",
      " Iteration 1700: MSE = 0.01469\n",
      "\n",
      " Iteration 1800: MSE = 0.01460\n",
      "\n",
      " Iteration 1900: MSE = 0.01455\n",
      " The  model is done training. Ready with prediction power.\n"
     ]
    }
   ],
   "source": [
    "# y = x+1\n",
    "x_dummy = np.array([1, 2, 3, 4, 5]);\n",
    "y_dummy = np.array([2.1,2.9,4.2, 4.9, 5.8])\n",
    "\n",
    "myo1.train(x_dummy,y_dummy , learning_rate=.01, n_iter=2000, verbose=True)"
   ]
  },
  {
   "cell_type": "code",
   "execution_count": 11,
   "metadata": {},
   "outputs": [
    {
     "name": "stdout",
     "output_type": "stream",
     "text": [
      "Intercept = 1.136045893902436, coeff = 0.9466349032836988\n"
     ]
    }
   ],
   "source": [
    "print (\"Intercept = {}, coeff = {}\".format(myo1.intercept_, myo1.coef_))"
   ]
  },
  {
   "cell_type": "code",
   "execution_count": 89,
   "metadata": {},
   "outputs": [
    {
     "data": {
      "text/plain": [
       "3.5026331521116827"
      ]
     },
     "execution_count": 89,
     "metadata": {},
     "output_type": "execute_result"
    }
   ],
   "source": [
    "myo1.predict(2.5)"
   ]
  },
  {
   "cell_type": "code",
   "execution_count": 12,
   "metadata": {},
   "outputs": [
    {
     "name": "stdout",
     "output_type": "stream",
     "text": [
      "Linear Regression Object Created.\n",
      "theta0=0.00 and theta1 = 0.00\n"
     ]
    }
   ],
   "source": [
    "myo2 = LinRegModel_v1(theta0 = 0.0, theta1 =0.0)"
   ]
  },
  {
   "cell_type": "code",
   "execution_count": 14,
   "metadata": {},
   "outputs": [
    {
     "name": "stdout",
     "output_type": "stream",
     "text": [
      "\n",
      " Iteration 0: MSE = 52664135.98847\n",
      "\n",
      " Iteration 100: MSE = 162840022454371122999958579804311993609747263483843774305525652987364682095427059821450238035232556984956134534886773166361450199724337015792477193591567832406339191791077383589315269987392614466067347769978087307895622548580917262183159659705085040327554895349242380997591987962767212544.00000\n",
      "\n",
      " Iteration 200: MSE = inf\n",
      "\n",
      " Iteration 300: MSE = nan\n",
      "\n",
      " Iteration 400: MSE = nan\n",
      "\n",
      " Iteration 500: MSE = nan\n",
      "\n",
      " Iteration 600: MSE = nan\n",
      "\n",
      " Iteration 700: MSE = nan\n",
      "\n",
      " Iteration 800: MSE = nan\n",
      "\n",
      " Iteration 900: MSE = nan\n",
      " The  model is done training. Ready with prediction power.\n"
     ]
    },
    {
     "name": "stderr",
     "output_type": "stream",
     "text": [
      "/Users/upendraprasad/opt/anaconda3/lib/python3.9/site-packages/numpy/core/fromnumeric.py:87: RuntimeWarning: overflow encountered in reduce\n",
      "  return ufunc.reduce(obj, axis, dtype, out, **passkwargs)\n",
      "/var/folders/j8/n1k26lsx2b5__nzr4pr131xr0000gn/T/ipykernel_66291/1025462130.py:30: RuntimeWarning: invalid value encountered in double_scalars\n",
      "  t1 = t1 - learning_rate * dt1\n"
     ]
    }
   ],
   "source": [
    "myo2.train(1.0* carpet_area, 1.0 * house_price, learning_rate=0.00001, n_iter=1000, verbose=True)"
   ]
  },
  {
   "cell_type": "code",
   "execution_count": 92,
   "metadata": {},
   "outputs": [
    {
     "data": {
      "text/plain": [
       "nan"
      ]
     },
     "execution_count": 92,
     "metadata": {},
     "output_type": "execute_result"
    }
   ],
   "source": [
    "myo2.predict(1000.0)"
   ]
  },
  {
   "cell_type": "code",
   "execution_count": 16,
   "metadata": {},
   "outputs": [],
   "source": [
    "# UNDERSTAND THE IMPORTANCE OF STANDARDIZATION and NORMALIZATION\n",
    "class Standardizer:\n",
    "    def __init__(self):\n",
    "        self.mean = 0\n",
    "        self.std=0\n",
    "        print (\"Standardizer object created\")\n",
    "    \n",
    "    def fit(self, X):        \n",
    "        # Find the mean of every column\n",
    "        self.mean = np.mean(X, axis=0)\n",
    "\n",
    "        # Find the standard deviation of every column/feature\n",
    "        self.std = np.std(X,axis=0)\n",
    "    \n",
    "    def transform(self, X):        \n",
    "        # Standard Scaling\n",
    "        return (X - self.mean)/self.std"
   ]
  },
  {
   "cell_type": "code",
   "execution_count": 17,
   "metadata": {},
   "outputs": [
    {
     "name": "stdout",
     "output_type": "stream",
     "text": [
      "Standardizer object created\n"
     ]
    }
   ],
   "source": [
    "# Crate the object for standardScaling\n",
    "scaler = Standardizer()"
   ]
  },
  {
   "cell_type": "code",
   "execution_count": 18,
   "metadata": {},
   "outputs": [],
   "source": [
    "scaler.fit(1.0*carpet_area)"
   ]
  },
  {
   "cell_type": "code",
   "execution_count": 20,
   "metadata": {},
   "outputs": [
    {
     "name": "stdout",
     "output_type": "stream",
     "text": [
      "[-1.09172562 -0.50225394  0.00300751 -0.03909761 -1.00751538  1.0135304\n",
      "  2.02405328 -1.17593586 -0.67067442  0.25563823  1.8556328   0.50826895\n",
      " -0.8390949  -0.33383345]\n"
     ]
    }
   ],
   "source": [
    "carpet_area_n = scaler.transform(carpet_area)\n",
    "print (carpet_area_n)"
   ]
  },
  {
   "cell_type": "code",
   "execution_count": 21,
   "metadata": {},
   "outputs": [
    {
     "name": "stdout",
     "output_type": "stream",
     "text": [
      "Linear Regression Object Created.\n",
      "theta0=0.00 and theta1 = 0.00\n"
     ]
    }
   ],
   "source": [
    "myo3 = LinRegModel_v1()"
   ]
  },
  {
   "cell_type": "code",
   "execution_count": 22,
   "metadata": {},
   "outputs": [
    {
     "name": "stdout",
     "output_type": "stream",
     "text": [
      "\n",
      " Iteration 0: MSE = 0.08602\n",
      "\n",
      " Iteration 100: MSE = 0.07050\n",
      "\n",
      " Iteration 200: MSE = 0.05779\n",
      "\n",
      " Iteration 300: MSE = 0.04739\n",
      "\n",
      " Iteration 400: MSE = 0.03887\n",
      "\n",
      " Iteration 500: MSE = 0.03190\n",
      "\n",
      " Iteration 600: MSE = 0.02619\n",
      "\n",
      " Iteration 700: MSE = 0.02152\n",
      "\n",
      " Iteration 800: MSE = 0.01769\n",
      "\n",
      " Iteration 900: MSE = 0.01456\n",
      "\n",
      " Iteration 1000: MSE = 0.01200\n",
      "\n",
      " Iteration 1100: MSE = 0.00990\n",
      "\n",
      " Iteration 1200: MSE = 0.00818\n",
      "\n",
      " Iteration 1300: MSE = 0.00678\n",
      "\n",
      " Iteration 1400: MSE = 0.00563\n",
      "\n",
      " Iteration 1500: MSE = 0.00468\n",
      "\n",
      " Iteration 1600: MSE = 0.00391\n",
      "\n",
      " Iteration 1700: MSE = 0.00328\n",
      "\n",
      " Iteration 1800: MSE = 0.00276\n",
      "\n",
      " Iteration 1900: MSE = 0.00234\n",
      "\n",
      " Iteration 2000: MSE = 0.00199\n",
      "\n",
      " Iteration 2100: MSE = 0.00171\n",
      "\n",
      " Iteration 2200: MSE = 0.00148\n",
      "\n",
      " Iteration 2300: MSE = 0.00129\n",
      "\n",
      " Iteration 2400: MSE = 0.00113\n",
      "\n",
      " Iteration 2500: MSE = 0.00100\n",
      "\n",
      " Iteration 2600: MSE = 0.00090\n",
      "\n",
      " Iteration 2700: MSE = 0.00081\n",
      "\n",
      " Iteration 2800: MSE = 0.00074\n",
      "\n",
      " Iteration 2900: MSE = 0.00069\n",
      "\n",
      " Iteration 3000: MSE = 0.00064\n",
      "\n",
      " Iteration 3100: MSE = 0.00060\n",
      "\n",
      " Iteration 3200: MSE = 0.00057\n",
      "\n",
      " Iteration 3300: MSE = 0.00054\n",
      "\n",
      " Iteration 3400: MSE = 0.00052\n",
      "\n",
      " Iteration 3500: MSE = 0.00051\n",
      "\n",
      " Iteration 3600: MSE = 0.00049\n",
      "\n",
      " Iteration 3700: MSE = 0.00048\n",
      "\n",
      " Iteration 3800: MSE = 0.00047\n",
      "\n",
      " Iteration 3900: MSE = 0.00046\n",
      "\n",
      " Iteration 4000: MSE = 0.00046\n",
      "\n",
      " Iteration 4100: MSE = 0.00045\n",
      "\n",
      " Iteration 4200: MSE = 0.00045\n",
      "\n",
      " Iteration 4300: MSE = 0.00044\n",
      "\n",
      " Iteration 4400: MSE = 0.00044\n",
      "\n",
      " Iteration 4500: MSE = 0.00044\n",
      "\n",
      " Iteration 4600: MSE = 0.00044\n",
      "\n",
      " Iteration 4700: MSE = 0.00044\n",
      "\n",
      " Iteration 4800: MSE = 0.00043\n",
      "\n",
      " Iteration 4900: MSE = 0.00043\n",
      " The  model is done training. Ready with prediction power.\n"
     ]
    }
   ],
   "source": [
    "myo3.train(carpet_area_n, house_price/1000.0, learning_rate=0.001, n_iter=5000, verbose=True)"
   ]
  },
  {
   "cell_type": "code",
   "execution_count": 23,
   "metadata": {},
   "outputs": [
    {
     "data": {
      "text/plain": [
       "269.5339083080346"
      ]
     },
     "execution_count": 23,
     "metadata": {},
     "output_type": "execute_result"
    }
   ],
   "source": [
    "# Predict the price of the house with carpet area 1400\n",
    "myo3.predict(scaler.transform(1400))*1000"
   ]
  },
  {
   "cell_type": "code",
   "execution_count": 24,
   "metadata": {},
   "outputs": [
    {
     "name": "stderr",
     "output_type": "stream",
     "text": [
      "/var/folders/j8/n1k26lsx2b5__nzr4pr131xr0000gn/T/ipykernel_66291/1720397746.py:4: UserWarning: linestyle is redundantly defined by the 'linestyle' keyword argument and the fmt string \"g-\" (-> linestyle='-'). The keyword argument will take precedence.\n",
      "  plt.plot(carpet_area, myo3.predict(scaler.transform(carpet_area))*1000, 'g-', linestyle='solid')# 'ro' red circle\n"
     ]
    },
    {
     "data": {
      "image/png": "[encoded data removed]",
      "text/plain": [
       "<Figure size 576x432 with 1 Axes>"
      ]
     },
     "metadata": {
      "needs_background": "light"
     },
     "output_type": "display_data"
    }
   ],
   "source": [
    "# Plot of the points\n",
    "plt.figure(figsize=(8,6))\n",
    "plt.plot(carpet_area, house_price, 'ro')# 'ro' red circle\n",
    "plt.plot(carpet_area, myo3.predict(scaler.transform(carpet_area))*1000, 'g-', linestyle='solid')# 'ro' red circle\n",
    "plt.axis([700, 2700, 100, 450]) # x-range and y-range\n",
    "plt.xlabel(\"Carpet Area\")\n",
    "plt.ylabel(\"House Price\")\n",
    "plt.show()"
   ]
  },
  {
   "cell_type": "code",
   "execution_count": 25,
   "metadata": {},
   "outputs": [],
   "source": [
    "# Create linear regression object from Scikit_learn\n",
    "lin_reg = LinearRegression()"
   ]
  },
  {
   "cell_type": "code",
   "execution_count": 26,
   "metadata": {},
   "outputs": [
    {
     "data": {
      "text/plain": [
       "LinearRegression()"
      ]
     },
     "execution_count": 26,
     "metadata": {},
     "output_type": "execute_result"
    }
   ],
   "source": [
    "# TRAIN: once the data is reshaped, running the fit is simple\n",
    "lin_reg.fit(carpet_area.reshape(-1,1), house_price.reshape(-1,1))"
   ]
  },
  {
   "cell_type": "code",
   "execution_count": 27,
   "metadata": {},
   "outputs": [
    {
     "name": "stderr",
     "output_type": "stream",
     "text": [
      "/var/folders/j8/n1k26lsx2b5__nzr4pr131xr0000gn/T/ipykernel_66291/927472254.py:4: UserWarning: linestyle is redundantly defined by the 'linestyle' keyword argument and the fmt string \"g-\" (-> linestyle='-'). The keyword argument will take precedence.\n",
      "  plt.plot(carpet_area,lin_reg.predict(carpet_area.reshape(-1,1)), 'g-', linestyle='solid')# 'ro' red circle\n"
     ]
    },
    {
     "data": {
      "image/png": "[encoded data removed]",
      "text/plain": [
       "<Figure size 576x432 with 1 Axes>"
      ]
     },
     "metadata": {
      "needs_background": "light"
     },
     "output_type": "display_data"
    }
   ],
   "source": [
    "# Plot of the points\n",
    "plt.figure(figsize=(8,6))\n",
    "plt.plot(carpet_area, house_price, 'ro')# 'ro' red circle\n",
    "plt.plot(carpet_area,lin_reg.predict(carpet_area.reshape(-1,1)), 'g-', linestyle='solid')# 'ro' red circle\n",
    "plt.axis([700, 2700, 100, 450]) # x-range and y-range\n",
    "plt.xlabel(\"Carpet Area\")\n",
    "plt.ylabel(\"House Price\")\n",
    "plt.show()"
   ]
  },
  {
   "cell_type": "markdown",
   "metadata": {},
   "source": [
    "### A word of caution\n",
    "\n",
    "<img src=\"https://informatique-python.readthedocs.io/fr/latest/_images/anscombe.png\" width=\"80%\">\n",
    "\n",
    "[Image Source](https://informatique-python.readthedocs.io/fr/latest/_images/anscombe.png)\n",
    "\n",
    "> \"The data sets in the Anscombe's quartet are designed to have approximately the same linear regression line (as well as nearly identical means, standard deviations, and correlations) but are graphically very different. This illustrates the pitfalls of relying solely on a fitted model to understand the relationship between variables.\"--WikiPedia"
   ]
  },
  {
   "cell_type": "markdown",
   "metadata": {},
   "source": [
    "### Multiple Linear Regression\n",
    "---\n",
    "Please see [WikiPedia] for details on this approach.\n",
    "\n",
    "<img src=\"./images/LinReg1.png\" width='70%'/>"
   ]
  },
  {
   "cell_type": "markdown",
   "metadata": {},
   "source": [
    "Assume following linear relationship between the predictor variables (features) and the response variable\n",
    "$$\n",
    "y_i = \\beta_{0} + \\beta_{1} x_{i1} + \\cdots + \\beta_{n} x_{in} + \\varepsilon_i\n",
    " = \\mathbf{x}^\\mathsf{T}_i\\boldsymbol\\beta + \\varepsilon_i,\n",
    " \\qquad i = 1, \\ldots, m,\n",
    " $$\n",
    " which converted to its vectorized form becomes\n",
    " $$\n",
    " \\mathbf{y} = X\\boldsymbol\\beta + \\boldsymbol\\varepsilon, \\,\n",
    " $$\n",
    " where\n",
    " $$\n",
    " \\mathbf{y} = \\begin{pmatrix} y_1 \\\\ y_2 \\\\ \\vdots \\\\ y_m \\end{pmatrix}, \\qquad\n",
    " X = \\begin{pmatrix} \\mathbf{x}^\\mathsf{T}_1 \\\\ \\mathbf{x}^\\mathsf{T}_2 \\\\ \\vdots \\\\ \\mathbf{x}^\\mathsf{T}_m \\end{pmatrix}\n",
    " = \\begin{pmatrix} 1 &  x_{11} & \\cdots & x_{1n} \\\\\n",
    " 1 & x_{21} & \\cdots & x_{2n} \\\\\n",
    " \\vdots & \\vdots & \\ddots & \\vdots \\\\\n",
    " 1 & x_{n1} & \\cdots & x_{nn}\n",
    " \\end{pmatrix},\\qquad\n",
    " \\boldsymbol\\beta = \\begin{pmatrix} \\beta_0 \\\\ \\beta_1 \\\\ \\beta_2 \\\\ \\vdots \\\\ \\beta_n \\end{pmatrix}, \\quad\n",
    " \\boldsymbol\\varepsilon = \\begin{pmatrix} \\varepsilon_1 \\\\ \\varepsilon_2 \\\\ \\vdots \\\\ \\varepsilon_m \\end{pmatrix}.\n",
    " $$"
   ]
  },
  {
   "cell_type": "markdown",
   "metadata": {},
   "source": [
    "Parameter Estimation:\n",
    "$$\n",
    "{\\hat{\\beta}} =  \\textrm{arg min}\\,J({\\beta}) = \\textrm{arg min} \\frac{1}{2 m}  \\sum_{i=1}^{m} ({\\beta} \\, . \\, {x_{i}} - y_i)^2\n",
    "$$\n",
    "Cost function in vectorized form\n",
    "\\begin{align}\n",
    "J({\\beta})&=\\frac{1}{2 m}  ||X {\\beta} - Y||^2 \\\\ \n",
    "&= \\frac{1}{2 m}  (X{\\beta} - Y)^T (X {\\beta} - Y) \\\\\n",
    "&= \\frac{1}{2 m} \\left({\\beta}^{T}X^TX {\\beta} - Y^{T}X{\\beta}- {\\beta}^{T}X^TY + Y^{T}Y\\right)\n",
    "\\end{align}\n",
    "\n",
    "The gradient of the cost function:\n",
    "\\begin{align}\n",
    "\\nabla_{\\beta} J(\\beta) = \\frac{1}{2 m} ( 2 X^T X {\\beta} -2X^TY  )\n",
    "\\end{align}\n",
    "We can find the stationary point of $J(\\beta)$ by solving a linear system as\n",
    "$$\n",
    "2 X^T X {\\beta} -2X^TY  = 0 \\Rightarrow {\\hat{\\beta}} = (X^TX)^{-1}X^TY\n",
    "$$\n",
    "\n",
    "But for practical considerations, we use iterative algorithms such a gradient descent method.\n",
    "#### Gradient Descent Method\n",
    ">- Pickup appropriate (random) initialization of $\\beta$. Choose appropriate learning rate $\\alpha$ (=0.001, for example.)\n",
    "\n",
    ">- Repeat the following update until convergence ($|\\Delta J(\\beta)|<\\epsilon$)\n",
    "    >- $$ \\beta \\leftarrow \\beta - \\alpha \\nabla_{\\beta} J(\\beta).$$"
   ]
  },
  {
   "cell_type": "markdown",
   "metadata": {},
   "source": [
    "<div class=\"alert alert-info\">\n",
    "Note that the gradient descent method (with normalization) could be interpreted as a preconditioned iterative method for  solving the normal equation $$  X^T X {\\beta}  =X^TY.$$\n",
    "</div>\n",
    "\n",
    "<br>\n",
    "\n",
    "### **Example 2:** Combined cycle power plant energy output\n",
    "\n",
    "<img src=\"https://insights.globalspec.com/images/assets/895/2895/CCNG-fullsize.png\" width=\"70%\">\n"
   ]
  },
  {
   "cell_type": "code",
   "execution_count": 29,
   "metadata": {},
   "outputs": [],
   "source": [
    "# Combined Cycle Power Plant Data at UCI downloaded on instructor's computer and unzipped\n",
    "'''The dataset contains 9568 data points collected from a Combined Cycle Power Plant\n",
    "over 6 years (2006-2011), when the power plant was set to work with full load.\n",
    "Features consist of hourly average ambient variables Temperature (T), \n",
    "Ambient Pressure (AP), Relative Humidity (RH) and Exhaust Vacuum (V) \n",
    "to predict the net hourly electrical energy output (EP)  of the plant.\n",
    "https://archive.ics.uci.edu/ml/datasets/Combined+Cycle+Power+Plant\n",
    "'''\n",
    "ccpp = pd.read_excel(\"./CCPower.xlsx\") # NOTE: how to read excel file"
   ]
  },
  {
   "cell_type": "code",
   "execution_count": 30,
   "metadata": {},
   "outputs": [
    {
     "data": {
      "text/html": [
       "<div>\n",
       "<style scoped>\n",
       "    .dataframe tbody tr th:only-of-type {\n",
       "        vertical-align: middle;\n",
       "    }\n",
       "\n",
       "    .dataframe tbody tr th {\n",
       "        vertical-align: top;\n",
       "    }\n",
       "\n",
       "    .dataframe thead th {\n",
       "        text-align: right;\n",
       "    }\n",
       "</style>\n",
       "<table border=\"1\" class=\"dataframe\">\n",
       "  <thead>\n",
       "    <tr style=\"text-align: right;\">\n",
       "      <th></th>\n",
       "      <th>AT</th>\n",
       "      <th>V</th>\n",
       "      <th>AP</th>\n",
       "      <th>RH</th>\n",
       "      <th>PE</th>\n",
       "    </tr>\n",
       "  </thead>\n",
       "  <tbody>\n",
       "    <tr>\n",
       "      <th>0</th>\n",
       "      <td>14.96</td>\n",
       "      <td>41.76</td>\n",
       "      <td>1024.07</td>\n",
       "      <td>73.17</td>\n",
       "      <td>463.26</td>\n",
       "    </tr>\n",
       "    <tr>\n",
       "      <th>1</th>\n",
       "      <td>25.18</td>\n",
       "      <td>62.96</td>\n",
       "      <td>1020.04</td>\n",
       "      <td>59.08</td>\n",
       "      <td>444.37</td>\n",
       "    </tr>\n",
       "    <tr>\n",
       "      <th>2</th>\n",
       "      <td>5.11</td>\n",
       "      <td>39.40</td>\n",
       "      <td>1012.16</td>\n",
       "      <td>92.14</td>\n",
       "      <td>488.56</td>\n",
       "    </tr>\n",
       "    <tr>\n",
       "      <th>3</th>\n",
       "      <td>20.86</td>\n",
       "      <td>57.32</td>\n",
       "      <td>1010.24</td>\n",
       "      <td>76.64</td>\n",
       "      <td>446.48</td>\n",
       "    </tr>\n",
       "    <tr>\n",
       "      <th>4</th>\n",
       "      <td>10.82</td>\n",
       "      <td>37.50</td>\n",
       "      <td>1009.23</td>\n",
       "      <td>96.62</td>\n",
       "      <td>473.90</td>\n",
       "    </tr>\n",
       "  </tbody>\n",
       "</table>\n",
       "</div>"
      ],
      "text/plain": [
       "      AT      V       AP     RH      PE\n",
       "0  14.96  41.76  1024.07  73.17  463.26\n",
       "1  25.18  62.96  1020.04  59.08  444.37\n",
       "2   5.11  39.40  1012.16  92.14  488.56\n",
       "3  20.86  57.32  1010.24  76.64  446.48\n",
       "4  10.82  37.50  1009.23  96.62  473.90"
      ]
     },
     "execution_count": 30,
     "metadata": {},
     "output_type": "execute_result"
    }
   ],
   "source": [
    "# Explore data: First few rows\n",
    "ccpp.head()"
   ]
  },
  {
   "cell_type": "code",
   "execution_count": 31,
   "metadata": {},
   "outputs": [
    {
     "data": {
      "image/png": "[encoded data removed]",
      "text/plain": [
       "<Figure size 432x288 with 2 Axes>"
      ]
     },
     "metadata": {
      "needs_background": "light"
     },
     "output_type": "display_data"
    }
   ],
   "source": [
    "#ccpp.corr()\n",
    "import seaborn as sns\n",
    "ax = sns.heatmap(ccpp.corr(), linewidths=.5)\n"
   ]
  },
  {
   "cell_type": "code",
   "execution_count": 32,
   "metadata": {},
   "outputs": [
    {
     "name": "stdout",
     "output_type": "stream",
     "text": [
      "(9568, 5)\n"
     ]
    }
   ],
   "source": [
    "#Step[0] Bring the data in a matrix\n",
    "data_mat = ccpp.values\n",
    "print (data_mat.shape)"
   ]
  },
  {
   "cell_type": "code",
   "execution_count": 33,
   "metadata": {},
   "outputs": [],
   "source": [
    "#Step[1] Split Data into Train and Test subsets: WHY?\n",
    "X = data_mat[:,0:4]\n",
    "y = data_mat[:,4]\n",
    "X_train, X_test, y_train, y_test  = train_test_split(X, y, test_size=0.2, random_state=100)"
   ]
  },
  {
   "cell_type": "code",
   "execution_count": 34,
   "metadata": {},
   "outputs": [],
   "source": [
    "#Step[2] Preprocess: Normalize the Features\n",
    "scaler = MinMaxScaler()\n",
    "scaler.fit(X_train)\n",
    "X_train_n = scaler.transform(X_train) # Is built on training data\n",
    "X_test_n = scaler.transform(X_test) # Same normalizer used for test dataa too"
   ]
  },
  {
   "cell_type": "code",
   "execution_count": 35,
   "metadata": {},
   "outputs": [],
   "source": [
    "# Create Linear Regression Model\n",
    "from sklearn.linear_model import LinearRegression\n",
    "lr = LinearRegression()"
   ]
  },
  {
   "cell_type": "code",
   "execution_count": 37,
   "metadata": {},
   "outputs": [
    {
     "data": {
      "text/plain": [
       "LinearRegression()"
      ]
     },
     "execution_count": 37,
     "metadata": {},
     "output_type": "execute_result"
    }
   ],
   "source": [
    "# TRAIN THE MODEL\n",
    "lr.fit(X_train_n, y_train)"
   ]
  },
  {
   "cell_type": "code",
   "execution_count": 38,
   "metadata": {},
   "outputs": [
    {
     "name": "stdout",
     "output_type": "stream",
     "text": [
      "[-70.0974413  -12.60164797   2.28413587 -11.83693075]\n",
      "502.90002808385645\n"
     ]
    }
   ],
   "source": [
    "# WHAT ARE THESE COEFFICIENTS and INTERCEPTS?\n",
    "print (lr.coef_)\n",
    "print (lr.intercept_)"
   ]
  },
  {
   "cell_type": "code",
   "execution_count": 40,
   "metadata": {},
   "outputs": [
    {
     "name": "stdout",
     "output_type": "stream",
     "text": [
      "[474.93 478.36 482.71 452.44 445.26]\n",
      "[478.82 473.57 481.49 453.22 442.08]\n"
     ]
    }
   ],
   "source": [
    "# Predict on some new values of x\n",
    "y_pred = lr.predict(X_test_n)\n",
    "print (np.round(y_pred[1:6],2))\n",
    "print (y_test[1:6])"
   ]
  },
  {
   "cell_type": "markdown",
   "metadata": {},
   "source": [
    "#### Scatter plot of actual $y$ values and predicted $y$ values\n",
    "Closer the scatter plot is to the line $y_{pred} = y_{actual}$, better the fit."
   ]
  },
  {
   "cell_type": "code",
   "execution_count": 41,
   "metadata": {},
   "outputs": [
    {
     "data": {
      "image/png": "[encoded data removed]",
      "text/plain": [
       "<Figure size 432x432 with 1 Axes>"
      ]
     },
     "metadata": {
      "needs_background": "light"
     },
     "output_type": "display_data"
    }
   ],
   "source": [
    "fig, ax = plt.subplots()\n",
    "fig.set_size_inches(6,6)\n",
    "ax.scatter(y_test, y_pred, edgecolors=(0, 0, 0))\n",
    "ax.plot([y_test.min(), y_test.max()], [y_test.min(), y_test.max()], 'k--', lw=4)\n",
    "ax.set_xlabel('Measured')\n",
    "ax.set_ylabel('Predicted')\n",
    "plt.show()"
   ]
  },
  {
   "cell_type": "markdown",
   "metadata": {},
   "source": [
    "### How to measure if the fit is good or not?\n",
    "#### $R^2$: Coefficient of Determination\n",
    "<hr>\n",
    "\n",
    "<img src = \"https://upload.wikimedia.org/wikipedia/commons/thumb/8/86/Coefficient_of_Determination.svg/600px-Coefficient_of_Determination.svg.png\" width=\"400px\" />\n",
    "Image Source: WikiPedia\n",
    "$$R^2 =  1 - \\frac{\\textrm{SS}_{res}}{ \\textrm{SS}_{tot}}= 1 - \\frac{\\sum (y_i - f_i)^2}{\\sum (y_i - \\bar{y})^2}$$\n",
    "<li>$R^2 \\leq 1$.</li>\n",
    "<li>Closer $R^2$ is to 1.0, better the fit (generally).</li>\n",
    "\n",
    "**Question** True/False: $R^2$ is always positive.\n",
    "\n",
    "[The relationship between r and R^2](http://danshiebler.com/2017-06-25-metrics/)"
   ]
  },
  {
   "cell_type": "code",
   "execution_count": 42,
   "metadata": {},
   "outputs": [
    {
     "name": "stdout",
     "output_type": "stream",
     "text": [
      "R-squared for the training data:  0.930592713707226\n",
      "R-squared for the test data:  0.9212053893462191\n"
     ]
    }
   ],
   "source": [
    "# R^2 : Coefficient of determination. Goodness of fit\n",
    "print (\"R-squared for the training data: \",lr.score(X_train_n, y_train))\n",
    "print (\"R-squared for the test data: \",lr.score(X_test_n, y_test))"
   ]
  },
  {
   "cell_type": "code",
   "execution_count": 53,
   "metadata": {},
   "outputs": [
    {
     "data": {
      "text/plain": [
       "<matplotlib.collections.PathCollection at 0x7fd172acee80>"
      ]
     },
     "execution_count": 53,
     "metadata": {},
     "output_type": "execute_result"
    },
    {
     "data": {
      "image/png": "[encoded data removed]",
      "text/plain": [
       "<Figure size 864x864 with 1 Axes>"
      ]
     },
     "metadata": {
      "needs_background": "light"
     },
     "output_type": "display_data"
    }
   ],
   "source": [
    "#Predicted vs. errors plot -> demonstrates an issue with this fit (high bias)\n",
    "plt.figure(figsize=(12,12))\n",
    "plt.scatter(lr.predict(X_test_n), lr.predict(X_test_n)-y_test)\n",
    "plt.plot([420,490],[0,0], color = \"red\")\n",
    "\n",
    "#place testing data on the plot as well\n",
    "plt.scatter(lr.predict(X_train_n), lr.predict(X_train_n)-y_train, color = \"yellow\")"
   ]
  },
  {
   "cell_type": "markdown",
   "metadata": {},
   "source": [
    "### Regularization\n",
    "---\n",
    "\n",
    "#### A discussion on polynomial Regression\n",
    "\n",
    "Continued on the iPad. See the note after class on Canvas.\n",
    "\n",
    "---\n",
    "MUST Read the blog:https://www.learnopencv.com/bias-variance-tradeoff-in-machine-learning/\n",
    "<li>Capacity, underfitting, and overfitting</li>\n",
    "<li>Bias, variance, and bias-variance trade-off</li>\n",
    "\n",
    "<img width=\"80%\" src=\"https://upload.wikimedia.org/wikipedia/commons/thumb/9/9f/Bias_and_variance_contributing_to_total_error.svg/1920px-Bias_and_variance_contributing_to_total_error.svg.png\" >\n",
    "\n",
    "[Image Source](https://upload.wikimedia.org/wikipedia/commons/thumb/9/9f/Bias_and_variance_contributing_to_total_error.svg/1920px-Bias_and_variance_contributing_to_total_error.svg.png)\n",
    "---\n",
    "Any modification to the learning algorithm that is intended to reduce generalization error but not the training error is called regularization.\n",
    "<hr>\n",
    "Ridge Regression:$$ J(\\theta) = \\frac{1}{2 m} \\| X \\theta - y\\|^2 + \\lambda \\| \\theta \\|^2 $$ \n",
    "<hr>\n",
    "Lasso Regression:$$ J(\\theta) = \\frac{1}{2 m} \\| X \\theta - y\\|^2 + \\lambda \\sum_{i=1}^n| \\theta_i | $$ \n",
    "The parameter $\\lambda$ is called a penalty. It is a hyperparameter that needs to be determined experimentally by cross-validation.\n",
    "\n",
    "(LASSO: Least absolute shrinkage and selection operation)\n",
    "\n",
    "#### Assignment : Auto-mileage data from UCI\n",
    "\n",
    "###### Steps to follow:\n",
    "***\n",
    "-  Get feature matrix X, and target variable y\n",
    "-  Split data into training and testing\n",
    "-  Normalize data using MinMaxScaler\n",
    "-  Creat a LinearRegression object for modeling\n",
    "-  Train the model with training data\n",
    "-  Look at R^2 score for goodness of fit for the train and test data.\n",
    "-  Improve your model."
   ]
  },
  {
   "cell_type": "code",
   "execution_count": 25,
   "metadata": {},
   "outputs": [
    {
     "data": {
      "text/html": [
       "<div>\n",
       "<style scoped>\n",
       "    .dataframe tbody tr th:only-of-type {\n",
       "        vertical-align: middle;\n",
       "    }\n",
       "\n",
       "    .dataframe tbody tr th {\n",
       "        vertical-align: top;\n",
       "    }\n",
       "\n",
       "    .dataframe thead th {\n",
       "        text-align: right;\n",
       "    }\n",
       "</style>\n",
       "<table border=\"1\" class=\"dataframe\">\n",
       "  <thead>\n",
       "    <tr style=\"text-align: right;\">\n",
       "      <th></th>\n",
       "      <th>mpg</th>\n",
       "      <th>cylinders</th>\n",
       "      <th>displacement</th>\n",
       "      <th>horsepower</th>\n",
       "      <th>weight</th>\n",
       "      <th>acceleration</th>\n",
       "      <th>model</th>\n",
       "      <th>origin</th>\n",
       "      <th>car_name</th>\n",
       "    </tr>\n",
       "  </thead>\n",
       "  <tbody>\n",
       "    <tr>\n",
       "      <th>0</th>\n",
       "      <td>18.0</td>\n",
       "      <td>8.0</td>\n",
       "      <td>307.0</td>\n",
       "      <td>130.0</td>\n",
       "      <td>3504.0</td>\n",
       "      <td>12.0</td>\n",
       "      <td>70.0</td>\n",
       "      <td>1.0</td>\n",
       "      <td>chevrolet chevelle malibu</td>\n",
       "    </tr>\n",
       "    <tr>\n",
       "      <th>1</th>\n",
       "      <td>15.0</td>\n",
       "      <td>8.0</td>\n",
       "      <td>350.0</td>\n",
       "      <td>165.0</td>\n",
       "      <td>3693.0</td>\n",
       "      <td>11.5</td>\n",
       "      <td>70.0</td>\n",
       "      <td>1.0</td>\n",
       "      <td>buick skylark 320</td>\n",
       "    </tr>\n",
       "    <tr>\n",
       "      <th>2</th>\n",
       "      <td>18.0</td>\n",
       "      <td>8.0</td>\n",
       "      <td>318.0</td>\n",
       "      <td>150.0</td>\n",
       "      <td>3436.0</td>\n",
       "      <td>11.0</td>\n",
       "      <td>70.0</td>\n",
       "      <td>1.0</td>\n",
       "      <td>plymouth satellite</td>\n",
       "    </tr>\n",
       "    <tr>\n",
       "      <th>3</th>\n",
       "      <td>16.0</td>\n",
       "      <td>8.0</td>\n",
       "      <td>304.0</td>\n",
       "      <td>150.0</td>\n",
       "      <td>3433.0</td>\n",
       "      <td>12.0</td>\n",
       "      <td>70.0</td>\n",
       "      <td>1.0</td>\n",
       "      <td>amc rebel sst</td>\n",
       "    </tr>\n",
       "    <tr>\n",
       "      <th>4</th>\n",
       "      <td>17.0</td>\n",
       "      <td>8.0</td>\n",
       "      <td>302.0</td>\n",
       "      <td>140.0</td>\n",
       "      <td>3449.0</td>\n",
       "      <td>10.5</td>\n",
       "      <td>70.0</td>\n",
       "      <td>1.0</td>\n",
       "      <td>ford torino</td>\n",
       "    </tr>\n",
       "  </tbody>\n",
       "</table>\n",
       "</div>"
      ],
      "text/plain": [
       "    mpg  cylinders  displacement  horsepower  weight  acceleration  model  \\\n",
       "0  18.0        8.0         307.0       130.0  3504.0          12.0   70.0   \n",
       "1  15.0        8.0         350.0       165.0  3693.0          11.5   70.0   \n",
       "2  18.0        8.0         318.0       150.0  3436.0          11.0   70.0   \n",
       "3  16.0        8.0         304.0       150.0  3433.0          12.0   70.0   \n",
       "4  17.0        8.0         302.0       140.0  3449.0          10.5   70.0   \n",
       "\n",
       "   origin                   car_name  \n",
       "0     1.0  chevrolet chevelle malibu  \n",
       "1     1.0          buick skylark 320  \n",
       "2     1.0         plymouth satellite  \n",
       "3     1.0              amc rebel sst  \n",
       "4     1.0                ford torino  "
      ]
     },
     "execution_count": 25,
     "metadata": {},
     "output_type": "execute_result"
    }
   ],
   "source": [
    "url2 = \"https://archive.ics.uci.edu/ml/machine-learning-databases/auto-mpg/auto-mpg.data-original\"\n",
    "col_names = ['mpg', 'cylinders', 'displacement', \n",
    "             'horsepower', 'weight', 'acceleration',\n",
    "                            'model', 'origin', 'car_name']\n",
    "mileage = pd.read_csv(url2, delim_whitespace=True, names=col_names)\n",
    "mileage.head()"
   ]
  },
  {
   "cell_type": "code",
   "execution_count": 26,
   "metadata": {},
   "outputs": [
    {
     "name": "stderr",
     "output_type": "stream",
     "text": [
      "Downloading Cal. housing from https://ndownloader.figshare.com/files/5976036 to /Users/upendraprasad/scikit_learn_data\n"
     ]
    },
    {
     "data": {
      "text/plain": [
       "sklearn.utils.Bunch"
      ]
     },
     "execution_count": 26,
     "metadata": {},
     "output_type": "execute_result"
    }
   ],
   "source": [
    "from sklearn.datasets import fetch_california_housing\n",
    "cal_data = fetch_california_housing()\n",
    "type(cal_data)"
   ]
  },
  {
   "cell_type": "code",
   "execution_count": 28,
   "metadata": {},
   "outputs": [
    {
     "name": "stdout",
     "output_type": "stream",
     "text": [
      ".. _california_housing_dataset:\n",
      "\n",
      "California Housing dataset\n",
      "--------------------------\n",
      "\n",
      "**Data Set Characteristics:**\n",
      "\n",
      "    :Number of Instances: 20640\n",
      "\n",
      "    :Number of Attributes: 8 numeric, predictive attributes and the target\n",
      "\n",
      "    :Attribute Information:\n",
      "        - MedInc        median income in block\n",
      "        - HouseAge      median house age in block\n",
      "        - AveRooms      average number of rooms\n",
      "        - AveBedrms     average number of bedrooms\n",
      "        - Population    block population\n",
      "        - AveOccup      average house occupancy\n",
      "        - Latitude      house block latitude\n",
      "        - Longitude     house block longitude\n",
      "\n",
      "    :Missing Attribute Values: None\n",
      "\n",
      "This dataset was obtained from the StatLib repository.\n",
      "http://lib.stat.cmu.edu/datasets/\n",
      "\n",
      "The target variable is the median house value for California districts.\n",
      "\n",
      "This dataset was derived from the 1990 U.S. census, using one row per census\n",
      "block group. A block group is the smallest geographical unit for which the U.S.\n",
      "Census Bureau publishes sample data (a block group typically has a population\n",
      "of 600 to 3,000 people).\n",
      "\n",
      "It can be downloaded/loaded using the\n",
      ":func:`sklearn.datasets.fetch_california_housing` function.\n",
      "\n",
      ".. topic:: References\n",
      "\n",
      "    - Pace, R. Kelley and Ronald Barry, Sparse Spatial Autoregressions,\n",
      "      Statistics and Probability Letters, 33 (1997) 291-297\n",
      "\n"
     ]
    }
   ],
   "source": [
    "print (cal_data.DESCR)"
   ]
  },
  {
   "cell_type": "code",
   "execution_count": 29,
   "metadata": {},
   "outputs": [
    {
     "name": "stdout",
     "output_type": "stream",
     "text": [
      "(20640, 8)\n",
      "(20640,)\n"
     ]
    }
   ],
   "source": [
    "X = cal_data.data\n",
    "y = cal_data.target\n",
    "print( X.shape)\n",
    "print (y.shape)\n",
    "#print cal_data.DESCR"
   ]
  },
  {
   "cell_type": "code",
   "execution_count": 30,
   "metadata": {},
   "outputs": [],
   "source": [
    "# Split Data into Train and Test subsets: WHY?\n",
    "X_train, X_test, y_train, y_test  = train_test_split(X, y, test_size=0.3, random_state=100)"
   ]
  },
  {
   "cell_type": "code",
   "execution_count": 31,
   "metadata": {},
   "outputs": [],
   "source": [
    "# Preprocess: Normalize the Features\n",
    "normalizer = MinMaxScaler()\n",
    "normalizer.fit(X_train)\n",
    "X_train_n = normalizer.transform(X_train) # Is built on training data\n",
    "X_test_n = normalizer.transform(X_test) # Same normalizer used for test dataa too"
   ]
  },
  {
   "cell_type": "code",
   "execution_count": 32,
   "metadata": {},
   "outputs": [
    {
     "data": {
      "text/plain": [
       "LinearRegression(copy_X=True, fit_intercept=True, n_jobs=None, normalize=False)"
      ]
     },
     "execution_count": 32,
     "metadata": {},
     "output_type": "execute_result"
    }
   ],
   "source": [
    "# Create a Linear Regression Model\n",
    "linreg = LinearRegression()\n",
    "# TRAIN THE MODEL\n",
    "linreg.fit(X_train_n, y_train)"
   ]
  },
  {
   "cell_type": "code",
   "execution_count": 33,
   "metadata": {},
   "outputs": [
    {
     "name": "stdout",
     "output_type": "stream",
     "text": [
      "[1.58841091 2.09217436 1.59135244 2.04970556]\n",
      "[1.042 1.462 1.542 3.242]\n"
     ]
    }
   ],
   "source": [
    "# Predict on test data\n",
    "y_test_pred = linreg.predict(X_test_n)\n",
    "print (y_test_pred[1:5])\n",
    "print( y_test[1:5])"
   ]
  },
  {
   "cell_type": "code",
   "execution_count": 34,
   "metadata": {},
   "outputs": [
    {
     "name": "stdout",
     "output_type": "stream",
     "text": [
      "0.5992766703138874\n",
      "0.6221318111480796\n"
     ]
    }
   ],
   "source": [
    "# R^2 : Coefficient of determination. Goodness of fit\n",
    "print (linreg.score(X_train_n, y_train))\n",
    "print (linreg.score(X_test_n, y_test))"
   ]
  },
  {
   "cell_type": "code",
   "execution_count": 35,
   "metadata": {},
   "outputs": [],
   "source": [
    "# Create an object of  The Polynomial Feature class\n",
    "from sklearn.preprocessing import PolynomialFeatures\n",
    "poly = PolynomialFeatures(degree=2, include_bias=False)"
   ]
  },
  {
   "cell_type": "code",
   "execution_count": 37,
   "metadata": {},
   "outputs": [
    {
     "name": "stdout",
     "output_type": "stream",
     "text": [
      "(20640, 44)\n",
      "[ 8.32520000e+00  4.10000000e+01  6.98412698e+00  1.02380952e+00\n",
      "  3.22000000e+02  2.55555556e+00  3.78800000e+01 -1.22230000e+02\n",
      "  6.93089550e+01  3.41333200e+02  5.81442540e+01  8.52341905e+00\n",
      "  2.68071440e+03  2.12755111e+01  3.15358576e+02 -1.01758920e+03\n",
      "  1.68100000e+03  2.86349206e+02  4.19761905e+01  1.32020000e+04\n",
      "  1.04777778e+02  1.55308000e+03 -5.01143000e+03  4.87780297e+01\n",
      "  7.15041572e+00  2.24888889e+03  1.78483245e+01  2.64558730e+02\n",
      " -8.53669841e+02  1.04818594e+00  3.29666667e+02  2.61640212e+00\n",
      "  3.87819048e+01 -1.25140238e+02  1.03684000e+05  8.22888889e+02\n",
      "  1.21973600e+04 -3.93580600e+04  6.53086420e+00  9.68044444e+01\n",
      " -3.12365556e+02  1.43489440e+03 -4.63007240e+03  1.49401729e+04]\n"
     ]
    }
   ],
   "source": [
    "Xp = poly.fit_transform(X)\n",
    "print (Xp.shape) # Dimension of new feature matrix\n",
    "print (Xp[0])"
   ]
  },
  {
   "cell_type": "code",
   "execution_count": 38,
   "metadata": {},
   "outputs": [],
   "source": [
    "# Split Data into Train and Test subsets: WHY?\n",
    "Xp_train, Xp_test, y_train, y_test  = train_test_split(Xp, y, test_size=0.25, random_state=10)"
   ]
  },
  {
   "cell_type": "code",
   "execution_count": 39,
   "metadata": {},
   "outputs": [],
   "source": [
    "# Preprocess: Normalize the Features\n",
    "normalizer = MinMaxScaler()\n",
    "normalizer.fit(Xp_train)\n",
    "Xpn_train = normalizer.transform(Xp_train) # Is built on training data\n",
    "Xpn_test = normalizer.transform(Xp_test) # Same normalizer used for test dataa too"
   ]
  },
  {
   "cell_type": "code",
   "execution_count": 40,
   "metadata": {},
   "outputs": [
    {
     "data": {
      "text/plain": [
       "LassoCV(alphas=[0.01, 0.05, 1.0, 5, 10, 100], copy_X=True, cv=None, eps=0.001,\n",
       "        fit_intercept=True, max_iter=10000, n_alphas=100, n_jobs=None,\n",
       "        normalize=False, positive=False, precompute='auto', random_state=None,\n",
       "        selection='cyclic', tol=1e-05, verbose=False)"
      ]
     },
     "execution_count": 40,
     "metadata": {},
     "output_type": "execute_result"
    }
   ],
   "source": [
    "# Create a Linear Regression Model\n",
    "from  sklearn.linear_model import LassoCV\n",
    "linreg = LassoCV(alphas=[  0.01, 0.05, 1.0, 5, 10, 100], max_iter=10000, tol=0.00001)\n",
    "#linreg = linear_model.RidgeCV(alphas=[0.001, 0.01, 0.05, 1.0, 5, 10, 100])\n",
    "# TRAIN THE MODEL\n",
    "#linreg = linear_model.LinearRegression()\n",
    "linreg.fit(Xpn_train, y_train)"
   ]
  },
  {
   "cell_type": "code",
   "execution_count": null,
   "metadata": {
    "collapsed": true
   },
   "outputs": [],
   "source": []
  },
  {
   "cell_type": "code",
   "execution_count": 41,
   "metadata": {},
   "outputs": [
    {
     "name": "stdout",
     "output_type": "stream",
     "text": [
      "0.5523189423935163\n",
      "0.5510412173826831\n"
     ]
    }
   ],
   "source": [
    "# R^2 : Coefficient of determination. Goodness of fit\n",
    "print( linreg.score(Xpn_train, y_train))\n",
    "print (linreg.score(Xpn_test, y_test))"
   ]
  },
  {
   "cell_type": "code",
   "execution_count": 42,
   "metadata": {},
   "outputs": [
    {
     "data": {
      "image/png": "[encoded data removed]",
      "text/plain": [
       "<Figure size 432x432 with 1 Axes>"
      ]
     },
     "metadata": {
      "needs_background": "light"
     },
     "output_type": "display_data"
    }
   ],
   "source": [
    "y_pred = linreg.predict(Xpn_test)\n",
    "fig, ax = plt.subplots()\n",
    "fig.set_size_inches(6,6)\n",
    "ax.scatter(y_test, y_pred, edgecolors=(0, 0, 0))\n",
    "ax.plot([y_test.min(), y_test.max()], [y_test.min(), y_test.max()], 'r--', lw=4)\n",
    "ax.set_xlabel('Measured')\n",
    "ax.set_ylabel('Predicted')\n",
    "plt.show()"
   ]
  },
  {
   "cell_type": "markdown",
   "metadata": {},
   "source": [
    "**Question**: What is wrong in the model that we have created?"
   ]
  },
  {
   "cell_type": "code",
   "execution_count": null,
   "metadata": {
    "collapsed": true
   },
   "outputs": [],
   "source": []
  },
  {
   "cell_type": "code",
   "execution_count": 1,
   "metadata": {},
   "outputs": [
    {
     "data": {
      "text/html": [
       "<style>\n",
       ".eqnbox{\n",
       "    margin:auto;width:500px;padding:20px;\n",
       "    border: 3px solid green; border-radius:15px;margin-top:20px;margin-bottom:20px;\n",
       "}\n",
       ".eqnbox2{\n",
       "    margin:auto;width:500px;padding:20px;\n",
       "    border: 1px solid green; border-radius:15px;margin-top:20px;margin-bottom:20px;\n",
       "}\n",
       ".eqnbox3{\n",
       "    margin:auto;width:700px;padding:20px;background-color:#c6d6b4;\n",
       "    border: 1px solid green; border-radius:15px;margin-top:20px;margin-bottom:20px;\n",
       "}\n",
       "</style>"
      ],
      "text/plain": [
       "<IPython.core.display.HTML object>"
      ]
     },
     "metadata": {},
     "output_type": "display_data"
    }
   ],
   "source": [
    "%%html\n",
    "<style>\n",
    ".eqnbox{\n",
    "    margin:auto;width:500px;padding:20px;\n",
    "    border: 3px solid green; border-radius:15px;margin-top:20px;margin-bottom:20px;\n",
    "}\n",
    ".eqnbox2{\n",
    "    margin:auto;width:500px;padding:20px;\n",
    "    border: 1px solid green; border-radius:15px;margin-top:20px;margin-bottom:20px;\n",
    "}\n",
    ".eqnbox3{\n",
    "    margin:auto;width:700px;padding:20px;background-color:#c6d6b4;\n",
    "    border: 1px solid green; border-radius:15px;margin-top:20px;margin-bottom:20px;\n",
    "}\n",
    "</style>"
   ]
  },
  {
   "cell_type": "code",
   "execution_count": 1,
   "metadata": {},
   "outputs": [
    {
     "name": "stdout",
     "output_type": "stream",
     "text": [
      "Available Themes: \r\n",
      "   chesterish\r\n",
      "   grade3\r\n",
      "   gruvboxd\r\n",
      "   gruvboxl\r\n",
      "   monokai\r\n",
      "   oceans16\r\n",
      "   onedork\r\n",
      "   solarizedd\r\n",
      "   solarizedl\r\n"
     ]
    }
   ],
   "source": [
    "!jt -l"
   ]
  },
  {
   "cell_type": "code",
   "execution_count": 5,
   "metadata": {},
   "outputs": [],
   "source": []
  },
  {
   "cell_type": "code",
   "execution_count": null,
   "metadata": {
    "collapsed": true
   },
   "outputs": [],
   "source": []
  }
 ],
 "metadata": {
  "kernelspec": {
   "display_name": "Python 3 (ipykernel)",
   "language": "python",
   "name": "python3"
  },
  "language_info": {
   "codemirror_mode": {
    "name": "ipython",
    "version": 3
   },
   "file_extension": ".py",
   "mimetype": "text/x-python",
   "name": "python",
   "nbconvert_exporter": "python",
   "pygments_lexer": "ipython3",
   "version": "3.9.7"
  }
 },
 "nbformat": 4,
 "nbformat_minor": 2
}
