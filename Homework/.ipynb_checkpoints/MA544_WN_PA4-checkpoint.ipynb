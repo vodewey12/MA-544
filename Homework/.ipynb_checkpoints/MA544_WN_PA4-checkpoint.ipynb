{
 "cells": [
  {
   "cell_type": "markdown",
   "metadata": {},
   "source": [
    "# Programming Assignment - 4\n",
    "---\n",
    "\n"
   ]
  },
  {
   "cell_type": "code",
   "execution_count": 98,
   "metadata": {},
   "outputs": [],
   "source": [
    "# Import required packages\n",
    "import numpy as np"
   ]
  },
  {
   "cell_type": "markdown",
   "metadata": {},
   "source": [
    "**Jacobi Method**\n",
    "\n",
    ">  Initialize the iterative solution vector $x^{(0)}$ randomly, or with the zero vector,\n",
    "\n",
    ">  for k=0:maxIteration, update every element until convergece\n",
    "\n",
    ">> for i=1:n\n",
    "$$\n",
    "x^{(k+1)}_i  = \\frac{1}{a_{ii}} \\left(b_i -\\sum_{j\\ne i}a_{ij}x^{(k)}_j\\right).\n",
    "$$"
   ]
  },
  {
   "cell_type": "code",
   "execution_count": 99,
   "metadata": {},
   "outputs": [],
   "source": [
    "# You can modify this code to answer the following\n",
    "'''\n",
    "Jacobi's iteration method for solving the system of equations Ax=b.\n",
    "p0 is the initialization for the iteration.\n",
    "'''\n",
    "def jacobi(A, b, p0, tol, maxIter=100):\n",
    "    n=len(A)\n",
    "    p = p0\n",
    "\n",
    "    for k in range(maxIter):\n",
    "        p_old = p.copy() # In python assignment is not the same as copy\n",
    "        \n",
    "        # Update every component of iterant p\n",
    "        for i in range(n):\n",
    "            sumi = b[i];\n",
    "            for j in range(n):\n",
    "                if i==j: # Diagonal elements are not included in Jacobi\n",
    "                    continue;\n",
    "                sumi = sumi - A[i,j] * p_old[j]\n",
    "            p[i] = sumi/A[i,i]\n",
    "                \n",
    "        rel_error = np.linalg.norm(p-p_old)/n # Actually 'n' should be replace by norm of p\n",
    "        # print(\"Relative error in iteration\", k+1,\":\",rel_error)\n",
    "        if rel_error<tol:\n",
    "            print(\"TOLERANCE MET BEFORE MAX-ITERATION\")\n",
    "            break\n",
    "    return p;"
   ]
  },
  {
   "cell_type": "code",
   "execution_count": 100,
   "metadata": {},
   "outputs": [],
   "source": [
    "# Example System\n",
    "A = np.array([[10, -1, 2, 0],\n",
    "              [-1, 11, -1, 3],\n",
    "              [2, -1, 10, -1],\n",
    "              [0, 3, -1, 8]],dtype=float)\n",
    "b = np.array([6, 25, -11, 15],dtype=float)\n"
   ]
  },
  {
   "cell_type": "code",
   "execution_count": 101,
   "metadata": {},
   "outputs": [
    {
     "name": "stdout",
     "output_type": "stream",
     "text": [
      "TOLERANCE MET BEFORE MAX-ITERATION\n",
      "The solution is:  [ 1.00000003  1.99999996 -0.99999997  0.99999995]\n"
     ]
    }
   ],
   "source": [
    "## What will happen if the followign code runs\n",
    "#x = jacobi(A,b, np.array([0,0,0,0]),0.00001, 100)\n",
    "\n",
    "x = jacobi(A,b, np.array([0,0,0,0],dtype=float),0.0000001, 100)\n",
    "print(\"The solution is: \",x)"
   ]
  },
  {
   "cell_type": "markdown",
   "metadata": {},
   "source": [
    "**Q1**: Modify the code for Jacobi Method for the following:\n",
    ">- (A) Implement the Gauss-Siedel Iteration in Python.  Solve the following system by using this method. Exact answer is (1,2,-1,1). Stopping criteria could be a relative $error < 0.00001$.\n",
    "\n",
    "$$\n",
    "\\begin{pmatrix}\n",
    "10 & -1  & 2  & 0  \\\\\n",
    "-1 & 11&-1 & 3 \\\\\n",
    "2 & -1  & 10  & -1 \\\\\n",
    "0 & 3 & -1 & 8  \n",
    "\\end{pmatrix}\n",
    "\\begin{pmatrix}\n",
    "x_1\\\\x_2\\\\x_3\\\\x_4 \n",
    "\\end{pmatrix}\n",
    "=\n",
    "\\begin{pmatrix}\n",
    "6\\\\25\\\\-11\\\\15\n",
    "\\end{pmatrix}\n",
    "$$\n"
   ]
  },
  {
   "cell_type": "code",
   "execution_count": 102,
   "metadata": {},
   "outputs": [],
   "source": [
    "def jacobi(A, b, p0, tol, maxIter=100):\n",
    "    n = len(A)\n",
    "    p = p0.copy()\n",
    "    for k in range(maxIter):\n",
    "        for i in range(n):\n",
    "            p[i] = (b[i] - np.dot(A[i,:i], p[:i]) - np.dot(A[i,i+1:], p0[i+1:])) / A[i,i]\n",
    "        if np.linalg.norm(p - p0) < tol:\n",
    "            return p\n",
    "        p0 = p.copy()\n",
    "    return p"
   ]
  },
  {
   "cell_type": "code",
   "execution_count": 103,
   "metadata": {},
   "outputs": [],
   "source": [
    "# Example System\n",
    "A = np.array([[10, -1, 2, 0],\n",
    "              [-1, 11, -1, 3],\n",
    "              [2, -1, 10, -1],\n",
    "              [0, 3, -1, 8]],dtype=float)\n",
    "b = np.array([6, 25, -11, 15],dtype=float)"
   ]
  },
  {
   "cell_type": "code",
   "execution_count": 104,
   "metadata": {},
   "outputs": [
    {
     "name": "stdout",
     "output_type": "stream",
     "text": [
      "The solution is:  [ 1.  2. -1.  1.]\n"
     ]
    }
   ],
   "source": [
    "##\n",
    "x = jacobi(A,b, np.array([0,0,0,0],dtype=float),1e-10, 100)\n",
    "print(\"The solution is: \",x)"
   ]
  },
  {
   "cell_type": "markdown",
   "metadata": {},
   "source": [
    ">- (B) Implement Successive Over-relaxation in Python and solve the above problem again with $\\omega=1.5$."
   ]
  },
  {
   "cell_type": "code",
   "execution_count": 105,
   "metadata": {},
   "outputs": [],
   "source": [
    "def jacobi(A, b, p0, tol, omega, maxIter=100):\n",
    "    n = len(A)\n",
    "    p = p0.copy()\n",
    "    for k in range(maxIter):\n",
    "        for i in range(n):\n",
    "            p[i] = (1-omega)*p0[i] + (omega/A[i,i])*(b[i] - np.dot(A[i,:i], p[:i]) - np.dot(A[i,i+1:], p0[i+1:]))        \n",
    "        if np.linalg.norm(p - p0) < tol:\n",
    "            return p\n",
    "        p0 = p.copy()\n",
    "    return p"
   ]
  },
  {
   "cell_type": "code",
   "execution_count": 106,
   "metadata": {},
   "outputs": [],
   "source": [
    "# Example System\n",
    "A = np.array([[10, -1, 2, 0],\n",
    "              [-1, 11, -1, 3],\n",
    "              [2, -1, 10, -1],\n",
    "              [0, 3, -1, 8]],dtype=float)\n",
    "b = np.array([6, 25, -11, 15],dtype=float)"
   ]
  },
  {
   "cell_type": "code",
   "execution_count": 107,
   "metadata": {},
   "outputs": [
    {
     "name": "stdout",
     "output_type": "stream",
     "text": [
      "The solution is:  [ 1.  2. -1.  1.]\n"
     ]
    }
   ],
   "source": [
    "##\n",
    "x = jacobi(A,b, np.array([0,0,0,0],dtype=float),1e-10, 1.5, 100)\n",
    "print(\"The solution is: \",x)"
   ]
  },
  {
   "cell_type": "markdown",
   "metadata": {},
   "source": [
    "**Q2** : Modify the code for gradient descent method to find the minimum for a function in two variables. Show the output for the following function by using your code. \n",
    "$$\n",
    "f(x_1, x_2) = x_1^2+x_2^2-2x_1+4x_2+8\n",
    "$$"
   ]
  },
  {
   "cell_type": "code",
   "execution_count": 108,
   "metadata": {},
   "outputs": [],
   "source": [
    "def gradient(p0, tol, learningRate, maxIter=1000):\n",
    "    \n",
    "    p = p0.copy()    \n",
    "    \n",
    "    for k in range(maxIter):\n",
    "        gradient = np.array([2*p[0] - 2, 2*p[1] + 4])\n",
    "        p = p - learningRate * gradient\n",
    "        p0 = p.copy()\n",
    "        if np.linalg.norm(gradient) < tol:\n",
    "            return p, k\n",
    "    return x, maxIter"
   ]
  },
  {
   "cell_type": "code",
   "execution_count": 109,
   "metadata": {},
   "outputs": [
    {
     "name": "stdout",
     "output_type": "stream",
     "text": [
      "The minimum point is:  [ 0.99999984 -1.99999967]\n"
     ]
    }
   ],
   "source": [
    "x, num_iter = gradient(np.array([0, 0], dtype=float), 1e-6, .1, 1000)\n",
    "print(\"The minimum point is: \", x)"
   ]
  }
 ],
 "metadata": {
  "kernelspec": {
   "display_name": "Python 3 (ipykernel)",
   "language": "python",
   "name": "python3"
  },
  "language_info": {
   "codemirror_mode": {
    "name": "ipython",
    "version": 3
   },
   "file_extension": ".py",
   "mimetype": "text/x-python",
   "name": "python",
   "nbconvert_exporter": "python",
   "pygments_lexer": "ipython3",
   "version": "3.11.1"
  }
 },
 "nbformat": 4,
 "nbformat_minor": 4
}
