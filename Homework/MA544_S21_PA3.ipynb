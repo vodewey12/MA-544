{
 "cells": [
  {
   "cell_type": "markdown",
   "metadata": {},
   "source": [
    "# Programming Assignment - 3\n",
    "---\n",
    "\n",
    "## Name:\n"
   ]
  },
  {
   "cell_type": "code",
   "execution_count": 91,
   "metadata": {},
   "outputs": [],
   "source": [
    "#Import required packages here\n",
    "import numpy as np\n",
    "import sys"
   ]
  },
  {
   "cell_type": "markdown",
   "metadata": {},
   "source": [
    "## Question 1\n",
    "\n",
    "Use the Gaussian elimination with scaled row-partial pivoting code to answer the following."
   ]
  },
  {
   "cell_type": "code",
   "execution_count": 92,
   "metadata": {},
   "outputs": [],
   "source": [
    "## Gaussian Elimination: Scaled Row Pivoting\n",
    "## This function is based on the pseudo-code on page-148 in the Text by Kincaid and Cheney\n",
    "def GE_rsp(A):\n",
    "    '''\n",
    "    This function returns the P'LU factorization of a square matrix A\n",
    "    by scaled row partial pivoting. \n",
    "    In place of returning L and U, elements of modified A are used to hold values of L and U.\n",
    "    '''\n",
    "    m,n = A.shape\n",
    "    \n",
    "    L = np.eye(n) # Not being used\n",
    "    U = np.zeros_like(A) # Not being used\n",
    "    if m !=n:\n",
    "        sys.exit(\"This function needs a square matrix as an input.\")\n",
    "        \n",
    "    # The initial ordering of rows\n",
    "    p = list(range(n))\n",
    "    \n",
    "    # Scaling vector: absolute maximum elements of each row\n",
    "    s = np.max(np.abs(A), axis=1)\n",
    "    \n",
    "    print(\"Scaling Vector: \",s)\n",
    "    \n",
    "    # Start the k-1 passes of Guassian Elimination on A\n",
    "    for k in range(n-1):\n",
    "        \n",
    "        print(\"\\n PASS {}: \\n\".format(k+1), A)\n",
    "        # Find the pivot element and interchange the rows\n",
    "        pivot_index = k + np.argmax(np.abs(A[p[k:], k])/s[p[k:]])        \n",
    "        \n",
    "        # Interchange element in the permutation vector\n",
    "        if pivot_index !=k:\n",
    "            temp = p[k]\n",
    "            p[k]=p[pivot_index]\n",
    "            p[pivot_index] = temp\n",
    "            print(\"permutation vector: \",p)\n",
    "            \n",
    "        print(\"\\n Pivot Element: {0:.2f} \\n\".format(A[p[k],k]))\n",
    "        if np.abs(A[p[k],k]) < 10**(-20):\n",
    "             sys.exit(\"ERROR!! Provided matrix is non-singular.\")\n",
    "             \n",
    "        # For the k-th pivot row Perform the Gaussian elimination on the following rows\n",
    "        for i in range(k+1, n):\n",
    "            # Find the multiplier\n",
    "            z = A[p[i],k]/A[p[k],k]\n",
    "            \n",
    "            #Save z in A itself. You can save this in L also\n",
    "            A[p[i],k] = z\n",
    "            \n",
    "            #Elimination operation: Changes all elements in a row simultaneously\n",
    "            ##\n",
    "            A[p[i],k+1:] -= z*A[p[k],k+1:]\n",
    "    return A, p"
   ]
  },
  {
   "cell_type": "code",
   "execution_count": 93,
   "metadata": {},
   "outputs": [
    {
     "name": "stdout",
     "output_type": "stream",
     "text": [
      "\n",
      " Given A: \n",
      "  [[ 2.  3. -6.]\n",
      " [ 1. -6.  8.]\n",
      " [ 3. -2.  1.]]\n",
      "Scaling Vector:  [6. 8. 3.]\n",
      "\n",
      " PASS 1: \n",
      " [[ 2.  3. -6.]\n",
      " [ 1. -6.  8.]\n",
      " [ 3. -2.  1.]]\n",
      "permutation vector:  [2, 1, 0]\n",
      "\n",
      " Pivot Element: 3.00 \n",
      "\n",
      "\n",
      " PASS 2: \n",
      " [[ 0.66666667  4.33333333 -6.66666667]\n",
      " [ 0.33333333 -5.33333333  7.66666667]\n",
      " [ 3.         -2.          1.        ]]\n",
      "permutation vector:  [2, 0, 1]\n",
      "\n",
      " Pivot Element: 4.33 \n",
      "\n",
      "\n",
      " After Gaussian Elimination with RSPP: \n",
      " [[ 0.66666667  4.33333333 -6.66666667]\n",
      " [ 0.33333333 -1.23076923 -0.53846154]\n",
      " [ 3.         -2.          1.        ]]\n",
      "\n",
      " The permutation Vector is: \n",
      " [2, 0, 1]\n"
     ]
    }
   ],
   "source": [
    "## Example on page number 146 (Kincaid Cheney).\n",
    "## Example solved manually in class\n",
    "A = np.array([[2, 3, -6], [1,-6,8], [3, -2, 1]], dtype=float)\n",
    "print(\"\\n Given A: \\n \",A)\n",
    "A,p =GE_rsp(A)\n",
    "print(\"\\n After Gaussian Elimination with RSPP: \\n\", A)\n",
    "print(\"\\n The permutation Vector is: \\n\", p)"
   ]
  },
  {
   "cell_type": "markdown",
   "metadata": {},
   "source": [
    ">- (A) Modify this code to write a function that solves a linear system Ax =b.  Test this in the case when   $𝑏=[3,1,1]^T$, and the matrix $A = [1~ 6 ~0; 2~ 1~ 0; 0 ~2~ 1]$. Only display the solution in the output."
   ]
  },
  {
   "cell_type": "code",
   "execution_count": 94,
   "metadata": {},
   "outputs": [],
   "source": [
    "def GE_rsp_modified(A,b):\n",
    "    '''\n",
    "    This function returns the solution of a linear system Ax = b \n",
    "    using Gaussian elimination with scaled row partial pivoting.\n",
    "    '''\n",
    "    m,n = A.shape\n",
    "    \n",
    "    if m != n:\n",
    "        sys.exit(\"This function needs a square matrix as an input.\")\n",
    "        \n",
    "    # The initial ordering of rows\n",
    "    # Start the k-1 passes of Guassian Elimination on A\n",
    "    for k in range(n):\n",
    "        \n",
    "        # Find the pivot element and interchange the rows\n",
    "        pivot = np.argmax(np.abs(A[k:, k])) + k\n",
    "        A[[k, pivot]] = A[[pivot, k]]\n",
    "        b[[k, pivot]] = b[[pivot, k]]\n",
    "        \n",
    "        if np.abs(A[k, k]) < 10**(-20):\n",
    "             sys.exit(\"ERROR!! Provided matrix is non-singular.\")\n",
    "        \n",
    "        # For the k-th pivot row Perform the Gaussian elimination on the following rows\n",
    "        for i in range(k+1, n):\n",
    "            # Find the multiplier\n",
    "            z = A[i, k] / A[k, k]\n",
    "            A[i, k:] -= z * A[k, k:]\n",
    "            b[i] -= z * b[k]\n",
    "    # Back-substitution to solve for x\n",
    "    x = np.zeros(n)\n",
    "    for i in range(n-1, -1, -1):\n",
    "        x[i] = (b[i] - np.dot(A[i, i+1:], x[i+1:])) / A[i, i]\n",
    "    \n",
    "    return x\n"
   ]
  },
  {
   "cell_type": "code",
   "execution_count": 95,
   "metadata": {},
   "outputs": [
    {
     "name": "stdout",
     "output_type": "stream",
     "text": [
      "[0.27272727 0.45454545 0.09090909]\n"
     ]
    }
   ],
   "source": [
    "A = np.array([[1, 6, 0], [2, 1, 0], [0, 2, 1]], dtype=float)\n",
    "b = np.array([3, 1, 1], dtype=float)\n",
    "x = GE_rsp_modified(A, b)\n",
    "print(x)"
   ]
  },
  {
   "cell_type": "markdown",
   "metadata": {},
   "source": [
    ">- (B) Modify this code to find the determinant of any square matrix A. Note that \n",
    "$$PA = LU \\Rightarrow \\text{det} A  = \\pm \\text{det} U .$$\n",
    "The sign depends of the number of row-swaps in the elimination process.  Use this code to find the determinant of any $10 \\times 10$ matrix that you randomly generate. Compare your result with the built-in NumPy method."
   ]
  },
  {
   "cell_type": "code",
   "execution_count": 96,
   "metadata": {},
   "outputs": [],
   "source": [
    "def GE_rsp_determinant(A):\n",
    "    \"\"\"\n",
    "    This function calculates the determinant of a square matrix A\n",
    "    using Gaussian elimination with scaled row partial pivoting.\n",
    "    \"\"\"\n",
    "    m, n = A.shape\n",
    "    \n",
    "    if m != n:\n",
    "        sys.exit(\"This function needs a square matrix as an input.\")\n",
    "        \n",
    "    # Initialize the scaling vector\n",
    "    s = np.zeros(n)\n",
    "    \n",
    "    # Initialize the permutation vector\n",
    "    # The initial ordering of rows\n",
    "    for k in range(n):\n",
    "        # Find the pivot element and interchange the rows\n",
    "        pivot = np.argmax(np.abs(A[k:, k])) + k\n",
    "        if pivot != k:\n",
    "            A[[k, pivot]] = A[[pivot, k]]\n",
    "\n",
    "        for i in range(k+1, n):\n",
    "            z = A[i, k] / A[k, k]\n",
    "            A[i, k:] -= z * A[k, k:]\n",
    "    \n",
    "    # Compute the determinant as the product of the diagonal elements\n",
    "    det = np.prod(np.diag(A))\n",
    "    \n",
    "    return det\n"
   ]
  },
  {
   "cell_type": "code",
   "execution_count": 97,
   "metadata": {},
   "outputs": [
    {
     "name": "stdout",
     "output_type": "stream",
     "text": [
      "0.022794085490616376\n",
      "0.02279408549061637\n"
     ]
    }
   ],
   "source": [
    "A = np.random.rand(10, 10)\n",
    "det = GE_rsp_determinant(A)\n",
    "print (det)\n",
    "print (np.linalg.det(A))"
   ]
  },
  {
   "cell_type": "markdown",
   "metadata": {},
   "source": [
    ">- (C) Modify the system-solver that you have created to find the inverse of a square matrix. Use this code to display the inverse of  A = [1 6 0; 2 1 0; 0 2 1]."
   ]
  },
  {
   "cell_type": "code",
   "execution_count": 98,
   "metadata": {},
   "outputs": [],
   "source": [
    "def GE_rsp_determinant(A):\n",
    "    \"\"\"\n",
    "    This function calculates the determinant of a square matrix A\n",
    "    using Gaussian elimination with scaled row partial pivoting.\n",
    "    \"\"\"\n",
    "    m,n = A.shape\n",
    "    \n",
    "    if m != n:\n",
    "        sys.exit(\"This function needs a square matrix as an input.\")\n",
    "        \n",
    "    identity = np.eye(n)\n",
    "    A = np.concatenate((A, identity), axis=1)\n",
    "    # the inverse matrix is in the second half of the augmented matrix\n",
    "    for i in range(n):\n",
    "        \n",
    "        factor = A[i,i]\n",
    "        A[i] /= factor\n",
    "        # subtract A[i] * A[k,i] from each row k where k != i to make A[k,i] equal to 0\n",
    "        for j in range(n):\n",
    "            if j != i:\n",
    "                factor = A[j,i]\n",
    "                A[j] -= factor * A[i]\n",
    "                \n",
    "    # the inverse matrix is in the second half of the augmented matrix\n",
    "    matrix = A[:, n:]\n",
    "    \n",
    "    return matrix"
   ]
  },
  {
   "cell_type": "code",
   "execution_count": 99,
   "metadata": {},
   "outputs": [
    {
     "name": "stdout",
     "output_type": "stream",
     "text": [
      "[[-0.09090909  0.54545455  0.        ]\n",
      " [ 0.18181818 -0.09090909  0.        ]\n",
      " [-0.36363636  0.18181818  1.        ]]\n"
     ]
    }
   ],
   "source": [
    "A = np.array([[1,6,0],[2,1,0],[0,2,1]], dtype=float)\n",
    "print(GE_rsp_determinant(A))\n"
   ]
  }
 ],
 "metadata": {
  "kernelspec": {
   "display_name": "Python 3 (ipykernel)",
   "language": "python",
   "name": "python3"
  },
  "language_info": {
   "codemirror_mode": {
    "name": "ipython",
    "version": 3
   },
   "file_extension": ".py",
   "mimetype": "text/x-python",
   "name": "python",
   "nbconvert_exporter": "python",
   "pygments_lexer": "ipython3",
   "version": "3.11.1"
  }
 },
 "nbformat": 4,
 "nbformat_minor": 4
}
