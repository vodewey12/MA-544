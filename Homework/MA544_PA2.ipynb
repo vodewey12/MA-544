{
 "cells": [
  {
   "cell_type": "markdown",
   "metadata": {},
   "source": [
    "# Programming Assignment - 2\n",
    "---\n",
    "## Name: Aaron Vo\n",
    "---"
   ]
  },
  {
   "cell_type": "markdown",
   "metadata": {},
   "source": [
    "## Question 1\n",
    "---\n",
    "Modify the textual data example from class to convert the document-term matrix into TF-IDF (term-frequency inverse document frequency) matrix by using basic NumPy operations where\n",
    "\n",
    ">- Term-frequency (of a word in a document) is frequency of the word in a document divided by total number of words in the document.\n",
    "\n",
    ">- Inverse document frequency of a word (all documents under consideration) is the natural log of (total number of documents/number of documents having the given word).\n",
    "\n",
    ">- tf-idf(t, d) = tf(t,d)*idf(t) ; \n",
    "\n",
    "**Display the dense output for the tf-idf matrix for the example taken in class.**"
   ]
  },
  {
   "cell_type": "code",
   "execution_count": 49,
   "metadata": {},
   "outputs": [],
   "source": [
    "import re\n",
    "import math\n",
    "import pandas as pd"
   ]
  },
  {
   "cell_type": "code",
   "execution_count": 50,
   "metadata": {},
   "outputs": [],
   "source": [
    "# Your code comes here\n",
    "\n",
    "## Example Documents: Amazon review of Taco vs Burrito\n",
    "document1 = \" I bought this game as a gift for my 8 year old daughter who loves games. I was expecting lots of gross foods--but I was surprised at the inappropriate cards--eyeball, human burger, blood salsa, and fresh brains. Those are not foods that typical people find in their refrigerators. We do not practice cannibalism. She was very upset when I suggested that we just take out those cards. I seriously wonder who thinks that those cards are appropriate for kids. The rest of the game is funny, but I wish I would have looked through the cards before I gave it to her.\"\n",
    "document2 = \"Absolutely love Taco vs burrito. I️ bought it as a kickstarter. I️ originally bought this game because my husband and I️ love to play games with friends but most of them are not targeted to children so I️ got this to add to our collection so we had options when our friends with kids came. I’m not gonna lie I️ did No have high expectations for this to be a game for adult but I️ was Sooooo wrong!!!!!! We have now played with several different groups of friends and it’s a hit!!!!! With adults it becomes a major strategy game. I️ have Now bought it as a Christmas present bc it was so well received!!!!\"\n",
    "document3 = \" Unlike several of the reviewers here, I didn't purchase this originally for when kids are around. I bought it because of the reviews that said the adults all loved it too! I'm always on the lookout for games playable by 2 people and this was a great one. It's incredibly simple, but brings a lot of laughs with the competition and sabotage. I'm really glad I gave this game a chance.\"\n",
    "doc_list = [document1, document2, document3]\n"
   ]
  },
  {
   "cell_type": "code",
   "execution_count": 51,
   "metadata": {},
   "outputs": [],
   "source": [
    "def formatDoc(document):\n",
    "    punc = '''!()-[]{};:'\"\\,<>./?@#$%^&*_~'''\n",
    "    for ele in document:\n",
    "        if ele in punc:\n",
    "            document = document.replace(ele, \"\")\n",
    "    return document"
   ]
  },
  {
   "cell_type": "code",
   "execution_count": 52,
   "metadata": {},
   "outputs": [],
   "source": [
    "def createBag(doc):\n",
    "    bag = []\n",
    "    for word in doc.split():\n",
    "        if word == \"\":\n",
    "            continue\n",
    "        bag.append(word.lower())\n",
    "    return bag"
   ]
  },
  {
   "cell_type": "code",
   "execution_count": 53,
   "metadata": {},
   "outputs": [],
   "source": [
    "bag_1 = createBag(formatDoc(document1))\n",
    "bag_2 = createBag(formatDoc(document2))\n",
    "bag_3 = createBag(formatDoc(document3))\n",
    "\n",
    "# Create a set of all words from 3 document\n",
    "uniqueWords = set(bag_1).union(set(bag_2)).union(set(bag_3))"
   ]
  },
  {
   "cell_type": "code",
   "execution_count": 54,
   "metadata": {},
   "outputs": [],
   "source": [
    "# Determine the term frequency using a hashmap \n",
    "def createFrequencyDict(bag):\n",
    "    word_freq = dict.fromkeys(uniqueWords, 0)\n",
    "    for word in bag:\n",
    "        word_freq[word] += 1\n",
    "        \n",
    "    return word_freq"
   ]
  },
  {
   "cell_type": "code",
   "execution_count": 55,
   "metadata": {},
   "outputs": [],
   "source": [
    "doc1_word_freq = createFrequencyDict(bag_1)\n",
    "doc2_word_freq = createFrequencyDict(bag_2)\n",
    "doc3_word_freq = createFrequencyDict(bag_3)"
   ]
  },
  {
   "cell_type": "code",
   "execution_count": 56,
   "metadata": {},
   "outputs": [],
   "source": [
    "def getTF(wordDict, bagOfWords):\n",
    "    tfDict = {}\n",
    "    bagOfWordsCount = len(bagOfWords)\n",
    "    for word, count in wordDict.items():\n",
    "        tfDict[word] = count / float(bagOfWordsCount)\n",
    "    return tfDict"
   ]
  },
  {
   "cell_type": "code",
   "execution_count": 57,
   "metadata": {},
   "outputs": [],
   "source": [
    "tf1 = getTF(doc1_word_freq, bag_1)\n",
    "tf2 = getTF(doc2_word_freq, bag_2)\n",
    "tf3 = getTF(doc3_word_freq, bag_3)"
   ]
  },
  {
   "cell_type": "code",
   "execution_count": 58,
   "metadata": {},
   "outputs": [],
   "source": [
    "def getIDF(documents):\n",
    "    document_len = len(documents)\n",
    "    \n",
    "    idfDict = dict.fromkeys(documents[0].keys(), 0)\n",
    "    for document in documents:\n",
    "        for word, val in document.items():\n",
    "            if val > 0:\n",
    "                idfDict[word] += 1\n",
    "    \n",
    "    for word, val in idfDict.items():\n",
    "        idfDict[word] = math.log(document_len / float(val))\n",
    "    return idfDict"
   ]
  },
  {
   "cell_type": "code",
   "execution_count": 59,
   "metadata": {},
   "outputs": [],
   "source": [
    "idf = getIDF([doc1_word_freq,doc2_word_freq,doc3_word_freq])"
   ]
  },
  {
   "cell_type": "code",
   "execution_count": 60,
   "metadata": {},
   "outputs": [],
   "source": [
    "def getTFIDF(tfBagOfWords, idfs):\n",
    "    tfidf = {}\n",
    "    for word, val in tfBagOfWords.items():\n",
    "        tfidf[word] = val * idfs[word]\n",
    "    return tfidf"
   ]
  },
  {
   "cell_type": "code",
   "execution_count": 61,
   "metadata": {},
   "outputs": [
    {
     "data": {
      "text/html": [
       "<div>\n",
       "<style scoped>\n",
       "    .dataframe tbody tr th:only-of-type {\n",
       "        vertical-align: middle;\n",
       "    }\n",
       "\n",
       "    .dataframe tbody tr th {\n",
       "        vertical-align: top;\n",
       "    }\n",
       "\n",
       "    .dataframe thead th {\n",
       "        text-align: right;\n",
       "    }\n",
       "</style>\n",
       "<table border=\"1\" class=\"dataframe\">\n",
       "  <thead>\n",
       "    <tr style=\"text-align: right;\">\n",
       "      <th></th>\n",
       "      <th>0</th>\n",
       "      <th>1</th>\n",
       "    </tr>\n",
       "  </thead>\n",
       "  <tbody>\n",
       "    <tr>\n",
       "      <th>0</th>\n",
       "      <td>{'bought': 0.00980392156862745, 'of': 0.019607...</td>\n",
       "      <td>{'bought': 0.0, 'of': 0.0, 'find': 1.098612288...</td>\n",
       "    </tr>\n",
       "    <tr>\n",
       "      <th>1</th>\n",
       "      <td>{'bought': 0.02608695652173913, 'of': 0.017391...</td>\n",
       "      <td>{'bought': 0.0, 'of': 0.0, 'find': 1.098612288...</td>\n",
       "    </tr>\n",
       "    <tr>\n",
       "      <th>2</th>\n",
       "      <td>{'bought': 0.014084507042253521, 'of': 0.04225...</td>\n",
       "      <td>{'bought': 0.0, 'of': 0.0, 'find': 1.098612288...</td>\n",
       "    </tr>\n",
       "  </tbody>\n",
       "</table>\n",
       "</div>"
      ],
      "text/plain": [
       "                                                   0  \\\n",
       "0  {'bought': 0.00980392156862745, 'of': 0.019607...   \n",
       "1  {'bought': 0.02608695652173913, 'of': 0.017391...   \n",
       "2  {'bought': 0.014084507042253521, 'of': 0.04225...   \n",
       "\n",
       "                                                   1  \n",
       "0  {'bought': 0.0, 'of': 0.0, 'find': 1.098612288...  \n",
       "1  {'bought': 0.0, 'of': 0.0, 'find': 1.098612288...  \n",
       "2  {'bought': 0.0, 'of': 0.0, 'find': 1.098612288...  "
      ]
     },
     "metadata": {},
     "output_type": "display_data"
    }
   ],
   "source": [
    "tfdif_1 = (tf1, idf)\n",
    "tfdif_2 = (tf2, idf)\n",
    "tfdif_3 = (tf3, idf)\n",
    "\n",
    "df = pd.DataFrame([tfdif_1, tfdif_2, tfdif_3])\n",
    "display(df)"
   ]
  },
  {
   "cell_type": "markdown",
   "metadata": {},
   "source": [
    "---\n",
    "## Question 2\n",
    "\n",
    "IRIS flower dataset is one of the widely used resources. Load the IRIS data by using following code\n",
    "\n",
    ">- Normalize this data by using z-scoring ($z  = (x - \\mu)/\\sigma$). Don't use loops. You can use np.mean(), np.std() and basic matrix operation with broadcasting. \n",
    "\n",
    ">- Visualize the distribution of the normalized data using Matplotlib or other packages. \n"
   ]
  },
  {
   "cell_type": "code",
   "execution_count": 62,
   "metadata": {},
   "outputs": [],
   "source": [
    "# Python code\n",
    "import numpy as np\n",
    "import pandas as pd\n",
    "import matplotlib.pyplot as plt\n",
    "from sklearn import datasets\n",
    "\n",
    "iris = datasets.load_iris().data\n"
   ]
  },
  {
   "cell_type": "code",
   "execution_count": 63,
   "metadata": {},
   "outputs": [
    {
     "data": {
      "text/html": [
       "<div>\n",
       "<style scoped>\n",
       "    .dataframe tbody tr th:only-of-type {\n",
       "        vertical-align: middle;\n",
       "    }\n",
       "\n",
       "    .dataframe tbody tr th {\n",
       "        vertical-align: top;\n",
       "    }\n",
       "\n",
       "    .dataframe thead th {\n",
       "        text-align: right;\n",
       "    }\n",
       "</style>\n",
       "<table border=\"1\" class=\"dataframe\">\n",
       "  <thead>\n",
       "    <tr style=\"text-align: right;\">\n",
       "      <th></th>\n",
       "      <th>z1</th>\n",
       "      <th>z2</th>\n",
       "      <th>z3</th>\n",
       "      <th>z4</th>\n",
       "    </tr>\n",
       "  </thead>\n",
       "  <tbody>\n",
       "    <tr>\n",
       "      <th>0</th>\n",
       "      <td>1.351023</td>\n",
       "      <td>1.431365</td>\n",
       "      <td>1.358472</td>\n",
       "      <td>-1.29827</td>\n",
       "    </tr>\n",
       "    <tr>\n",
       "      <th>1</th>\n",
       "      <td>0.503322</td>\n",
       "      <td>0.354298</td>\n",
       "      <td>0.491362</td>\n",
       "      <td>-1.29827</td>\n",
       "    </tr>\n",
       "    <tr>\n",
       "      <th>2</th>\n",
       "      <td>-0.609285</td>\n",
       "      <td>-0.552705</td>\n",
       "      <td>-0.606977</td>\n",
       "      <td>-1.29827</td>\n",
       "    </tr>\n",
       "    <tr>\n",
       "      <th>3</th>\n",
       "      <td>-1.245060</td>\n",
       "      <td>-1.232958</td>\n",
       "      <td>-1.242858</td>\n",
       "      <td>-1.29827</td>\n",
       "    </tr>\n",
       "  </tbody>\n",
       "</table>\n",
       "</div>"
      ],
      "text/plain": [
       "         z1        z2        z3       z4\n",
       "0  1.351023  1.431365  1.358472 -1.29827\n",
       "1  0.503322  0.354298  0.491362 -1.29827\n",
       "2 -0.609285 -0.552705 -0.606977 -1.29827\n",
       "3 -1.245060 -1.232958 -1.242858 -1.29827"
      ]
     },
     "metadata": {},
     "output_type": "display_data"
    }
   ],
   "source": [
    "z_scores = []\n",
    "\n",
    "for i in range(0,4):\n",
    "    z_scores.append((iris[i] - np.mean(iris[i]))/np.std(iris[i]))\n",
    "\n",
    "normalized_dict = {\"z1\": z_scores[0], \"z2\": z_scores[1], \"z3\": z_scores[2], \"z4\": z_score[3]}\n",
    "df = pd.DataFrame(normalized_dict)\n",
    "\n",
    "display(df)"
   ]
  },
  {
   "cell_type": "code",
   "execution_count": 64,
   "metadata": {},
   "outputs": [
    {
     "name": "stderr",
     "output_type": "stream",
     "text": [
      "No artists with labels found to put in legend.  Note that artists whose label start with an underscore are ignored when legend() is called with no argument.\n"
     ]
    },
    {
     "data": {
      "image/png": "[encoded data removed]",
      "text/plain": [
       "<Figure size 1200x500 with 1 Axes>"
      ]
     },
     "metadata": {},
     "output_type": "display_data"
    }
   ],
   "source": [
    "dist_val = dict(alpha=.5, bins=25, density=True, stacked=False, rwidth=10)\n",
    "\n",
    "plt.figure(figsize=(12,5))\n",
    "#plotting the hist\n",
    "for z_score in z_scores:\n",
    "    plt.hist(z_score, **dist_val)\n",
    "\n",
    "plt.gca().set(title='Distribution of the normalized data (IRIS)')\n",
    "plt.legend()\n",
    "plt.show()"
   ]
  }
 ],
 "metadata": {
  "kernelspec": {
   "display_name": "Python 3 (ipykernel)",
   "language": "python",
   "name": "python3"
  },
  "language_info": {
   "codemirror_mode": {
    "name": "ipython",
    "version": 3
   },
   "file_extension": ".py",
   "mimetype": "text/x-python",
   "name": "python",
   "nbconvert_exporter": "python",
   "pygments_lexer": "ipython3",
   "version": "3.11.1"
  }
 },
 "nbformat": 4,
 "nbformat_minor": 4
}
